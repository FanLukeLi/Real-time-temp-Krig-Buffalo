{
 "cells": [
  {
   "cell_type": "code",
   "execution_count": 1,
   "id": "90792083-72be-40b6-ad17-838f7617ee12",
   "metadata": {},
   "outputs": [],
   "source": [
    "import numpy as np\n",
    "import pandas as pd\n",
    "import geopandas as gpd\n",
    "import matplotlib.pyplot as plt\n",
    "from pprint import pprint\n",
    "import warnings\n",
    "warnings.filterwarnings(\"ignore\")"
   ]
  },
  {
   "cell_type": "code",
   "execution_count": 2,
   "id": "c95dc0d6-947d-4437-b547-4ed90afb0d64",
   "metadata": {},
   "outputs": [],
   "source": [
    "import skgstat as skg"
   ]
  },
  {
   "cell_type": "markdown",
   "id": "57457b3b-8cde-4277-9997-2b18ef29d7fa",
   "metadata": {},
   "source": [
    "# Prepare data"
   ]
  },
  {
   "cell_type": "code",
   "execution_count": 3,
   "id": "5ea0763e-1ebe-4425-bb05-36be935946c8",
   "metadata": {},
   "outputs": [
    {
     "data": {
      "text/plain": [
       "array([-78.91425017,  42.82603146, -78.79516013,  42.96646349])"
      ]
     },
     "execution_count": 3,
     "metadata": {},
     "output_type": "execute_result"
    }
   ],
   "source": [
    "gdf = gpd.read_file('./data/Buffalo_CS.shp')\n",
    "gdf.total_bounds"
   ]
  },
  {
   "cell_type": "code",
   "execution_count": 18,
   "id": "78876f72-e0ac-47cd-ad8f-f2c379df9d72",
   "metadata": {},
   "outputs": [],
   "source": [
    "import requests\n",
    "from shapely import Point, within, unary_union\n",
    "from multiprocessing import Pool"
   ]
  },
  {
   "cell_type": "code",
   "execution_count": 35,
   "id": "1b96bb11-06b0-4f03-a6ee-06291fc67618",
   "metadata": {},
   "outputs": [
    {
     "data": {
      "text/plain": [
       "(-0.11909004573200832, 0.14043202238600117)"
      ]
     },
     "execution_count": 35,
     "metadata": {},
     "output_type": "execute_result"
    }
   ],
   "source": [
    "minx, maxx, miny, maxy = set(gdf.total_bounds)\n",
    "lon_span = maxx - minx\n",
    "lat_span = maxy - miny\n",
    "lon_span, lat_span"
   ]
  },
  {
   "cell_type": "code",
   "execution_count": 46,
   "id": "81fa8c42-7610-40b3-a0d5-b914703e1a03",
   "metadata": {},
   "outputs": [
    {
     "data": {
      "text/plain": [
       "0      POINT (-78.80111 42.83305)\n",
       "1      POINT (-78.80111 42.84710)\n",
       "2      POINT (-78.80111 42.86114)\n",
       "3      POINT (-78.80111 42.87518)\n",
       "4      POINT (-78.80111 42.88923)\n",
       "                  ...            \n",
       "116    POINT (-78.92020 42.91731)\n",
       "117    POINT (-78.92020 42.93136)\n",
       "118    POINT (-78.92020 42.94540)\n",
       "119    POINT (-78.92020 42.95944)\n",
       "120    POINT (-78.92020 42.97349)\n",
       "Length: 121, dtype: geometry"
      ]
     },
     "execution_count": 46,
     "metadata": {},
     "output_type": "execute_result"
    }
   ],
   "source": [
    "coords = []\n",
    "for i in range(11): \n",
    "    for j in range(11): \n",
    "        x = minx + (i + 0.5) * lon_span / 10\n",
    "        y = miny + (j + 0.5) * lat_span / 10\n",
    "        coords.append(Point(x, y))\n",
    "coords = gpd.GeoSeries(coords)\n",
    "coords.set_crs(4326, inplace=True)"
   ]
  },
  {
   "cell_type": "code",
   "execution_count": 55,
   "id": "549b0888-18e6-4734-9a44-d3a4670e5ba2",
   "metadata": {},
   "outputs": [],
   "source": [
    "def get_temp(x, y): \n",
    "    response = requests.get(\"https://api.open-meteo.com/v1/forecast\", params={\n",
    "        \"latitude\": y, \n",
    "        \"longitude\": x, \n",
    "        \"current\": \"temperature_2m\"\n",
    "    })\n",
    "    return response.json()"
   ]
  },
  {
   "cell_type": "code",
   "execution_count": 47,
   "id": "edc14ea7-41ca-46fb-a742-78533033a6e0",
   "metadata": {},
   "outputs": [
    {
     "data": {
      "text/plain": [
       "0      POINT (-78.80111 42.83305)\n",
       "1      POINT (-78.80111 42.84710)\n",
       "2      POINT (-78.80111 42.86114)\n",
       "3      POINT (-78.80111 42.87518)\n",
       "4      POINT (-78.80111 42.88923)\n",
       "                  ...            \n",
       "95     POINT (-78.89639 42.93136)\n",
       "96     POINT (-78.89639 42.94540)\n",
       "97     POINT (-78.89639 42.95944)\n",
       "106    POINT (-78.90830 42.93136)\n",
       "107    POINT (-78.90830 42.94540)\n",
       "Length: 76, dtype: geometry"
      ]
     },
     "execution_count": 47,
     "metadata": {},
     "output_type": "execute_result"
    }
   ],
   "source": [
    "buf_coords = coords[within(coords, unary_union(gdf.geometry.tolist()))]\n",
    "buf_coords"
   ]
  },
  {
   "cell_type": "code",
   "execution_count": 57,
   "id": "b367f8ad-839b-4ebe-9b13-df70f299deb7",
   "metadata": {},
   "outputs": [
    {
     "data": {
      "text/plain": [
       "-0.1"
      ]
     },
     "execution_count": 57,
     "metadata": {},
     "output_type": "execute_result"
    }
   ],
   "source": [
    "res = get_temp(buf_coords.iloc[5].x, buf_coords.iloc[5].y)\n",
    "res['current']['temperature_2m']"
   ]
  },
  {
   "cell_type": "code",
   "execution_count": 85,
   "id": "4931def8-9583-462b-87b9-1eae1237c928",
   "metadata": {
    "scrolled": true
   },
   "outputs": [
    {
     "name": "stdout",
     "output_type": "stream",
     "text": [
      "[21:20:49]: -78.80111463042459, 42.833053064278296, 0.9\n",
      "[21:20:50]: -78.80111463042459, 42.8470962665169, 1.0\n",
      "[21:20:52]: -78.80111463042459, 42.861139468755496, 1.0\n",
      "[21:20:54]: -78.80111463042459, 42.8751826709941, 1.1\n",
      "[21:20:56]: -78.80111463042459, 42.8892258732327, 1.4\n",
      "[21:20:58]: -78.80111463042459, 42.9032690754713, 1.3\n",
      "[21:21:00]: -78.80111463042459, 42.9173122777099, 1.7\n",
      "[21:21:02]: -78.80111463042459, 42.9313554799485, 1.6\n",
      "[21:21:04]: -78.80111463042459, 42.9453986821871, 1.9\n",
      "[21:21:06]: -78.81302363499779, 42.833053064278296, 0.9\n",
      "[21:21:07]: -78.81302363499779, 42.8470962665169, 1.0\n",
      "[21:21:09]: -78.81302363499779, 42.861139468755496, 1.0\n",
      "[21:21:10]: -78.81302363499779, 42.8751826709941, 1.1\n",
      "[21:21:12]: -78.81302363499779, 42.8892258732327, 1.0\n",
      "[21:21:13]: -78.81302363499779, 42.9032690754713, 1.3\n",
      "[21:21:15]: -78.81302363499779, 42.9173122777099, 1.3\n",
      "[21:21:16]: -78.81302363499779, 42.9313554799485, 1.7\n",
      "[21:21:18]: -78.81302363499779, 42.9453986821871, 1.6\n",
      "[21:21:19]: -78.81302363499779, 42.9594418844257, 1.8\n",
      "[21:21:21]: -78.82493263957099, 42.833053064278296, 0.9\n",
      "[21:21:22]: -78.82493263957099, 42.8470962665169, 1.0\n",
      "[21:21:24]: -78.82493263957099, 42.861139468755496, 1.0\n",
      "[21:21:25]: -78.82493263957099, 42.8751826709941, 1.1\n",
      "[21:21:27]: -78.82493263957099, 42.8892258732327, 1.2\n",
      "[21:21:28]: -78.82493263957099, 42.9032690754713, 1.7\n",
      "[21:21:29]: -78.82493263957099, 42.9173122777099, 1.6\n",
      "[21:21:31]: -78.82493263957099, 42.9313554799485, 1.6\n",
      "[21:21:32]: -78.82493263957099, 42.9453986821871, 1.6\n",
      "[21:21:34]: -78.8368416441442, 42.833053064278296, 1.0\n",
      "[21:21:35]: -78.8368416441442, 42.8470962665169, 1.0\n",
      "[21:21:37]: -78.8368416441442, 42.861139468755496, 1.0\n",
      "[21:21:38]: -78.8368416441442, 42.8751826709941, 1.3\n",
      "[21:21:39]: -78.8368416441442, 42.8892258732327, 1.2\n",
      "[21:21:41]: -78.8368416441442, 42.9032690754713, 1.7\n",
      "[21:21:42]: -78.8368416441442, 42.9173122777099, 1.6\n",
      "[21:21:44]: -78.8368416441442, 42.9313554799485, 1.6\n",
      "[21:21:45]: -78.8368416441442, 42.9453986821871, 1.7\n",
      "[21:21:47]: -78.8487506487174, 42.833053064278296, 0.4\n",
      "[21:21:48]: -78.8487506487174, 42.8470962665169, 0.9\n",
      "[21:21:49]: -78.8487506487174, 42.861139468755496, 1.0\n",
      "[21:21:51]: -78.8487506487174, 42.8751826709941, 1.3\n",
      "[21:21:53]: -78.8487506487174, 42.8892258732327, 1.2\n",
      "[21:21:54]: -78.8487506487174, 42.9032690754713, 1.6\n",
      "[21:21:56]: -78.8487506487174, 42.9173122777099, 1.6\n",
      "[21:21:57]: -78.8487506487174, 42.9313554799485, 1.8\n",
      "[21:21:59]: -78.8487506487174, 42.9453986821871, 1.9\n",
      "[21:22:00]: -78.8606596532906, 42.833053064278296, 0.5\n",
      "[21:22:01]: -78.8606596532906, 42.8470962665169, 1.0\n",
      "[21:22:03]: -78.8606596532906, 42.861139468755496, 1.0\n",
      "[21:22:04]: -78.8606596532906, 42.8751826709941, 1.3\n",
      "[21:22:05]: -78.8606596532906, 42.8892258732327, 1.1\n",
      "[21:22:07]: -78.8606596532906, 42.9032690754713, 1.7\n",
      "[21:22:09]: -78.8606596532906, 42.9173122777099, 1.8\n",
      "[21:22:10]: -78.8606596532906, 42.9313554799485, 1.9\n",
      "[21:22:11]: -78.8606596532906, 42.9453986821871, 2.0\n",
      "[21:22:13]: -78.8725686578638, 42.861139468755496, 0.4\n",
      "[21:22:14]: -78.8725686578638, 42.8751826709941, 1.2\n",
      "[21:22:15]: -78.8725686578638, 42.8892258732327, 1.1\n",
      "[21:22:18]: -78.8725686578638, 42.9032690754713, 1.7\n",
      "[21:22:19]: -78.8725686578638, 42.9173122777099, 1.7\n",
      "[21:22:21]: -78.8725686578638, 42.9313554799485, 2.0\n",
      "[21:22:22]: -78.8725686578638, 42.9453986821871, 1.9\n",
      "[21:22:24]: -78.884477662437, 42.8751826709941, 1.2\n",
      "[21:22:25]: -78.884477662437, 42.8892258732327, 1.2\n",
      "[21:22:26]: -78.884477662437, 42.9032690754713, 1.7\n",
      "[21:22:29]: -78.884477662437, 42.9173122777099, 1.8\n",
      "[21:22:30]: -78.884477662437, 42.9313554799485, 1.8\n",
      "[21:22:32]: -78.884477662437, 42.9453986821871, 1.8\n",
      "[21:22:33]: -78.8963866670102, 42.8892258732327, 1.5\n",
      "[21:22:35]: -78.8963866670102, 42.9032690754713, 1.7\n",
      "[21:22:36]: -78.8963866670102, 42.9173122777099, 1.7\n",
      "[21:22:37]: -78.8963866670102, 42.9313554799485, 1.8\n",
      "[21:22:39]: -78.8963866670102, 42.9453986821871, 1.7\n",
      "[21:22:40]: -78.8963866670102, 42.9594418844257, 1.7\n",
      "[21:22:42]: -78.9082956715834, 42.9313554799485, 1.9\n",
      "[21:22:43]: -78.9082956715834, 42.9453986821871, 1.8\n"
     ]
    }
   ],
   "source": [
    "from datetime import datetime\n",
    "temps = []\n",
    "for coord in buf_coords: \n",
    "    temp = get_temp(coord.x, coord.y)\n",
    "    print(f\"[{datetime.now().strftime('%H:%M:%S')}]: {coord.x}, {coord.y}, {temp['current']['temperature_2m']}\")\n",
    "    temps.append(temp['current']['temperature_2m'])"
   ]
  },
  {
   "cell_type": "code",
   "execution_count": 114,
   "id": "5dd01d6e-644e-45a1-a7ac-c701ca34e39b",
   "metadata": {},
   "outputs": [],
   "source": [
    "temp_gdf = gpd.GeoDataFrame(data={'temperature': temps, 'geometry': buf_coords}, geometry='geometry')"
   ]
  },
  {
   "cell_type": "code",
   "execution_count": 115,
   "id": "fbe502c0-9ba5-4130-9511-09f1168548de",
   "metadata": {},
   "outputs": [
    {
     "data": {
      "text/plain": [
       "(76, 76)"
      ]
     },
     "execution_count": 115,
     "metadata": {},
     "output_type": "execute_result"
    }
   ],
   "source": [
    "len(temps), buf_coords.shape[0]"
   ]
  },
  {
   "cell_type": "code",
   "execution_count": 117,
   "id": "b46bc3eb-f86c-4f39-b2c6-e960034b0eaf",
   "metadata": {},
   "outputs": [
    {
     "data": {
      "text/html": [
       "<div style=\"width:100%;\"><div style=\"position:relative;width:100%;height:0;padding-bottom:60%;\"><span style=\"color:#565656\">Make this Notebook Trusted to load map: File -> Trust Notebook</span><iframe srcdoc=\"&lt;!DOCTYPE html&gt;\n",
       "&lt;html&gt;\n",
       "&lt;head&gt;\n",
       "    \n",
       "    &lt;meta http-equiv=&quot;content-type&quot; content=&quot;text/html; charset=UTF-8&quot; /&gt;\n",
       "    \n",
       "        &lt;script&gt;\n",
       "            L_NO_TOUCH = false;\n",
       "            L_DISABLE_3D = false;\n",
       "        &lt;/script&gt;\n",
       "    \n",
       "    &lt;style&gt;html, body {width: 100%;height: 100%;margin: 0;padding: 0;}&lt;/style&gt;\n",
       "    &lt;style&gt;#map {position:absolute;top:0;bottom:0;right:0;left:0;}&lt;/style&gt;\n",
       "    &lt;script src=&quot;https://cdn.jsdelivr.net/npm/leaflet@1.9.3/dist/leaflet.js&quot;&gt;&lt;/script&gt;\n",
       "    &lt;script src=&quot;https://code.jquery.com/jquery-1.12.4.min.js&quot;&gt;&lt;/script&gt;\n",
       "    &lt;script src=&quot;https://cdn.jsdelivr.net/npm/bootstrap@5.2.2/dist/js/bootstrap.bundle.min.js&quot;&gt;&lt;/script&gt;\n",
       "    &lt;script src=&quot;https://cdnjs.cloudflare.com/ajax/libs/Leaflet.awesome-markers/2.0.2/leaflet.awesome-markers.js&quot;&gt;&lt;/script&gt;\n",
       "    &lt;link rel=&quot;stylesheet&quot; href=&quot;https://cdn.jsdelivr.net/npm/leaflet@1.9.3/dist/leaflet.css&quot;/&gt;\n",
       "    &lt;link rel=&quot;stylesheet&quot; href=&quot;https://cdn.jsdelivr.net/npm/bootstrap@5.2.2/dist/css/bootstrap.min.css&quot;/&gt;\n",
       "    &lt;link rel=&quot;stylesheet&quot; href=&quot;https://netdna.bootstrapcdn.com/bootstrap/3.0.0/css/bootstrap.min.css&quot;/&gt;\n",
       "    &lt;link rel=&quot;stylesheet&quot; href=&quot;https://cdn.jsdelivr.net/npm/@fortawesome/fontawesome-free@6.2.0/css/all.min.css&quot;/&gt;\n",
       "    &lt;link rel=&quot;stylesheet&quot; href=&quot;https://cdnjs.cloudflare.com/ajax/libs/Leaflet.awesome-markers/2.0.2/leaflet.awesome-markers.css&quot;/&gt;\n",
       "    &lt;link rel=&quot;stylesheet&quot; href=&quot;https://cdn.jsdelivr.net/gh/python-visualization/folium/folium/templates/leaflet.awesome.rotate.min.css&quot;/&gt;\n",
       "    \n",
       "            &lt;meta name=&quot;viewport&quot; content=&quot;width=device-width,\n",
       "                initial-scale=1.0, maximum-scale=1.0, user-scalable=no&quot; /&gt;\n",
       "            &lt;style&gt;\n",
       "                #map_2339805e8b820b8fa707b70df12fa336 {\n",
       "                    position: relative;\n",
       "                    width: 100.0%;\n",
       "                    height: 100.0%;\n",
       "                    left: 0.0%;\n",
       "                    top: 0.0%;\n",
       "                }\n",
       "                .leaflet-container { font-size: 1rem; }\n",
       "            &lt;/style&gt;\n",
       "        \n",
       "    \n",
       "                    &lt;style&gt;\n",
       "                        .foliumtooltip {\n",
       "                            \n",
       "                        }\n",
       "                       .foliumtooltip table{\n",
       "                            margin: auto;\n",
       "                        }\n",
       "                        .foliumtooltip tr{\n",
       "                            text-align: left;\n",
       "                        }\n",
       "                        .foliumtooltip th{\n",
       "                            padding: 2px; padding-right: 8px;\n",
       "                        }\n",
       "                    &lt;/style&gt;\n",
       "            \n",
       "    &lt;script src=&quot;https://cdnjs.cloudflare.com/ajax/libs/d3/3.5.5/d3.min.js&quot;&gt;&lt;/script&gt;\n",
       "&lt;/head&gt;\n",
       "&lt;body&gt;\n",
       "    \n",
       "    \n",
       "            &lt;div class=&quot;folium-map&quot; id=&quot;map_2339805e8b820b8fa707b70df12fa336&quot; &gt;&lt;/div&gt;\n",
       "        \n",
       "&lt;/body&gt;\n",
       "&lt;script&gt;\n",
       "    \n",
       "    \n",
       "            var map_2339805e8b820b8fa707b70df12fa336 = L.map(\n",
       "                &quot;map_2339805e8b820b8fa707b70df12fa336&quot;,\n",
       "                {\n",
       "                    center: [42.896247474351995, -78.854705151004],\n",
       "                    crs: L.CRS.EPSG3857,\n",
       "                    zoom: 10,\n",
       "                    zoomControl: true,\n",
       "                    preferCanvas: false,\n",
       "                }\n",
       "            );\n",
       "            L.control.scale().addTo(map_2339805e8b820b8fa707b70df12fa336);\n",
       "\n",
       "            \n",
       "\n",
       "        \n",
       "    \n",
       "            var tile_layer_538e2860e6bf792de48957b1745c0f2b = L.tileLayer(\n",
       "                &quot;https://{s}.tile.openstreetmap.org/{z}/{x}/{y}.png&quot;,\n",
       "                {&quot;attribution&quot;: &quot;Data by \\u0026copy; \\u003ca target=\\&quot;_blank\\&quot; href=\\&quot;http://openstreetmap.org\\&quot;\\u003eOpenStreetMap\\u003c/a\\u003e, under \\u003ca target=\\&quot;_blank\\&quot; href=\\&quot;http://www.openstreetmap.org/copyright\\&quot;\\u003eODbL\\u003c/a\\u003e.&quot;, &quot;detectRetina&quot;: false, &quot;maxNativeZoom&quot;: 18, &quot;maxZoom&quot;: 18, &quot;minZoom&quot;: 0, &quot;noWrap&quot;: false, &quot;opacity&quot;: 1, &quot;subdomains&quot;: &quot;abc&quot;, &quot;tms&quot;: false}\n",
       "            ).addTo(map_2339805e8b820b8fa707b70df12fa336);\n",
       "        \n",
       "    \n",
       "            map_2339805e8b820b8fa707b70df12fa336.fitBounds(\n",
       "                [[42.833053064278296, -78.9082956715834], [42.9594418844257, -78.80111463042459]],\n",
       "                {}\n",
       "            );\n",
       "        \n",
       "    \n",
       "        function geo_json_f07e3aacb81a26e0a3d9b61b7c8a8e00_styler(feature) {\n",
       "            switch(feature.id) {\n",
       "                case &quot;0&quot;: case &quot;11&quot;: case &quot;22&quot;: case &quot;45&quot;: \n",
       "                    return {&quot;color&quot;: &quot;#33628d&quot;, &quot;fillColor&quot;: &quot;#33628d&quot;, &quot;fillOpacity&quot;: 0.5, &quot;weight&quot;: 2};\n",
       "                case &quot;1&quot;: case &quot;2&quot;: case &quot;12&quot;: case &quot;13&quot;: case &quot;15&quot;: case &quot;23&quot;: case &quot;24&quot;: case &quot;33&quot;: case &quot;34&quot;: case &quot;35&quot;: case &quot;46&quot;: case &quot;56&quot;: case &quot;57&quot;: \n",
       "                    return {&quot;color&quot;: &quot;#2c718e&quot;, &quot;fillColor&quot;: &quot;#2c718e&quot;, &quot;fillOpacity&quot;: 0.5, &quot;weight&quot;: 2};\n",
       "                case &quot;3&quot;: case &quot;14&quot;: case &quot;25&quot;: case &quot;59&quot;: case &quot;70&quot;: \n",
       "                    return {&quot;color&quot;: &quot;#26818e&quot;, &quot;fillColor&quot;: &quot;#26818e&quot;, &quot;fillOpacity&quot;: 0.5, &quot;weight&quot;: 2};\n",
       "                case &quot;4&quot;: \n",
       "                    return {&quot;color&quot;: &quot;#27ad81&quot;, &quot;fillColor&quot;: &quot;#27ad81&quot;, &quot;fillOpacity&quot;: 0.5, &quot;weight&quot;: 2};\n",
       "                case &quot;5&quot;: case &quot;16&quot;: case &quot;17&quot;: case &quot;36&quot;: case &quot;47&quot;: case &quot;58&quot;: \n",
       "                    return {&quot;color&quot;: &quot;#1f9f88&quot;, &quot;fillColor&quot;: &quot;#1f9f88&quot;, &quot;fillOpacity&quot;: 0.5, &quot;weight&quot;: 2};\n",
       "                case &quot;7&quot;: case &quot;19&quot;: case &quot;28&quot;: case &quot;29&quot;: case &quot;30&quot;: case &quot;39&quot;: case &quot;40&quot;: case &quot;49&quot;: case &quot;50&quot;: \n",
       "                    return {&quot;color&quot;: &quot;#5cc863&quot;, &quot;fillColor&quot;: &quot;#5cc863&quot;, &quot;fillOpacity&quot;: 0.5, &quot;weight&quot;: 2};\n",
       "                case &quot;8&quot;: case &quot;52&quot;: case &quot;62&quot;: case &quot;74&quot;: case &quot;106&quot;: \n",
       "                    return {&quot;color&quot;: &quot;#d5e21a&quot;, &quot;fillColor&quot;: &quot;#d5e21a&quot;, &quot;fillOpacity&quot;: 0.5, &quot;weight&quot;: 2};\n",
       "                case &quot;20&quot;: case &quot;51&quot;: case &quot;61&quot;: case &quot;83&quot;: case &quot;84&quot;: case &quot;85&quot;: case &quot;95&quot;: case &quot;107&quot;: \n",
       "                    return {&quot;color&quot;: &quot;#aadc32&quot;, &quot;fillColor&quot;: &quot;#aadc32&quot;, &quot;fillOpacity&quot;: 0.5, &quot;weight&quot;: 2};\n",
       "                case &quot;26&quot;: case &quot;37&quot;: case &quot;48&quot;: case &quot;69&quot;: case &quot;80&quot;: case &quot;81&quot;: \n",
       "                    return {&quot;color&quot;: &quot;#21908d&quot;, &quot;fillColor&quot;: &quot;#21908d&quot;, &quot;fillOpacity&quot;: 0.5, &quot;weight&quot;: 2};\n",
       "                case &quot;44&quot;: case &quot;68&quot;: \n",
       "                    return {&quot;color&quot;: &quot;#440154&quot;, &quot;fillColor&quot;: &quot;#440154&quot;, &quot;fillOpacity&quot;: 0.5, &quot;weight&quot;: 2};\n",
       "                case &quot;55&quot;: \n",
       "                    return {&quot;color&quot;: &quot;#481769&quot;, &quot;fillColor&quot;: &quot;#481769&quot;, &quot;fillOpacity&quot;: 0.5, &quot;weight&quot;: 2};\n",
       "                case &quot;63&quot;: case &quot;73&quot;: \n",
       "                    return {&quot;color&quot;: &quot;#fde725&quot;, &quot;fillColor&quot;: &quot;#fde725&quot;, &quot;fillOpacity&quot;: 0.5, &quot;weight&quot;: 2};\n",
       "                case &quot;92&quot;: \n",
       "                    return {&quot;color&quot;: &quot;#3dbc74&quot;, &quot;fillColor&quot;: &quot;#3dbc74&quot;, &quot;fillOpacity&quot;: 0.5, &quot;weight&quot;: 2};\n",
       "                default:\n",
       "                    return {&quot;color&quot;: &quot;#81d34d&quot;, &quot;fillColor&quot;: &quot;#81d34d&quot;, &quot;fillOpacity&quot;: 0.5, &quot;weight&quot;: 2};\n",
       "            }\n",
       "        }\n",
       "        function geo_json_f07e3aacb81a26e0a3d9b61b7c8a8e00_highlighter(feature) {\n",
       "            switch(feature.id) {\n",
       "                default:\n",
       "                    return {&quot;fillOpacity&quot;: 0.75};\n",
       "            }\n",
       "        }\n",
       "        function geo_json_f07e3aacb81a26e0a3d9b61b7c8a8e00_pointToLayer(feature, latlng) {\n",
       "            var opts = {&quot;bubblingMouseEvents&quot;: true, &quot;color&quot;: &quot;#3388ff&quot;, &quot;dashArray&quot;: null, &quot;dashOffset&quot;: null, &quot;fill&quot;: true, &quot;fillColor&quot;: &quot;#3388ff&quot;, &quot;fillOpacity&quot;: 0.2, &quot;fillRule&quot;: &quot;evenodd&quot;, &quot;lineCap&quot;: &quot;round&quot;, &quot;lineJoin&quot;: &quot;round&quot;, &quot;opacity&quot;: 1.0, &quot;radius&quot;: 2, &quot;stroke&quot;: true, &quot;weight&quot;: 3};\n",
       "            \n",
       "            let style = geo_json_f07e3aacb81a26e0a3d9b61b7c8a8e00_styler(feature)\n",
       "            Object.assign(opts, style)\n",
       "            \n",
       "            return new L.CircleMarker(latlng, opts)\n",
       "        }\n",
       "\n",
       "        function geo_json_f07e3aacb81a26e0a3d9b61b7c8a8e00_onEachFeature(feature, layer) {\n",
       "            layer.on({\n",
       "                mouseout: function(e) {\n",
       "                    if(typeof e.target.setStyle === &quot;function&quot;){\n",
       "                        geo_json_f07e3aacb81a26e0a3d9b61b7c8a8e00.resetStyle(e.target);\n",
       "                    }\n",
       "                },\n",
       "                mouseover: function(e) {\n",
       "                    if(typeof e.target.setStyle === &quot;function&quot;){\n",
       "                        const highlightStyle = geo_json_f07e3aacb81a26e0a3d9b61b7c8a8e00_highlighter(e.target.feature)\n",
       "                        e.target.setStyle(highlightStyle);\n",
       "                    }\n",
       "                },\n",
       "            });\n",
       "        };\n",
       "        var geo_json_f07e3aacb81a26e0a3d9b61b7c8a8e00 = L.geoJson(null, {\n",
       "                onEachFeature: geo_json_f07e3aacb81a26e0a3d9b61b7c8a8e00_onEachFeature,\n",
       "            \n",
       "                style: geo_json_f07e3aacb81a26e0a3d9b61b7c8a8e00_styler,\n",
       "                pointToLayer: geo_json_f07e3aacb81a26e0a3d9b61b7c8a8e00_pointToLayer\n",
       "        });\n",
       "\n",
       "        function geo_json_f07e3aacb81a26e0a3d9b61b7c8a8e00_add (data) {\n",
       "            geo_json_f07e3aacb81a26e0a3d9b61b7c8a8e00\n",
       "                .addData(data)\n",
       "                .addTo(map_2339805e8b820b8fa707b70df12fa336);\n",
       "        }\n",
       "            geo_json_f07e3aacb81a26e0a3d9b61b7c8a8e00_add({&quot;bbox&quot;: [-78.9082956715834, 42.833053064278296, -78.80111463042459, 42.9594418844257], &quot;features&quot;: [{&quot;bbox&quot;: [-78.80111463042459, 42.833053064278296, -78.80111463042459, 42.833053064278296], &quot;geometry&quot;: {&quot;coordinates&quot;: [-78.80111463042459, 42.833053064278296], &quot;type&quot;: &quot;Point&quot;}, &quot;id&quot;: &quot;0&quot;, &quot;properties&quot;: {&quot;__folium_color&quot;: &quot;#33628d&quot;, &quot;temperature&quot;: 0.9}, &quot;type&quot;: &quot;Feature&quot;}, {&quot;bbox&quot;: [-78.80111463042459, 42.8470962665169, -78.80111463042459, 42.8470962665169], &quot;geometry&quot;: {&quot;coordinates&quot;: [-78.80111463042459, 42.8470962665169], &quot;type&quot;: &quot;Point&quot;}, &quot;id&quot;: &quot;1&quot;, &quot;properties&quot;: {&quot;__folium_color&quot;: &quot;#2c718e&quot;, &quot;temperature&quot;: 1.0}, &quot;type&quot;: &quot;Feature&quot;}, {&quot;bbox&quot;: [-78.80111463042459, 42.861139468755496, -78.80111463042459, 42.861139468755496], &quot;geometry&quot;: {&quot;coordinates&quot;: [-78.80111463042459, 42.861139468755496], &quot;type&quot;: &quot;Point&quot;}, &quot;id&quot;: &quot;2&quot;, &quot;properties&quot;: {&quot;__folium_color&quot;: &quot;#2c718e&quot;, &quot;temperature&quot;: 1.0}, &quot;type&quot;: &quot;Feature&quot;}, {&quot;bbox&quot;: [-78.80111463042459, 42.8751826709941, -78.80111463042459, 42.8751826709941], &quot;geometry&quot;: {&quot;coordinates&quot;: [-78.80111463042459, 42.8751826709941], &quot;type&quot;: &quot;Point&quot;}, &quot;id&quot;: &quot;3&quot;, &quot;properties&quot;: {&quot;__folium_color&quot;: &quot;#26818e&quot;, &quot;temperature&quot;: 1.1}, &quot;type&quot;: &quot;Feature&quot;}, {&quot;bbox&quot;: [-78.80111463042459, 42.8892258732327, -78.80111463042459, 42.8892258732327], &quot;geometry&quot;: {&quot;coordinates&quot;: [-78.80111463042459, 42.8892258732327], &quot;type&quot;: &quot;Point&quot;}, &quot;id&quot;: &quot;4&quot;, &quot;properties&quot;: {&quot;__folium_color&quot;: &quot;#27ad81&quot;, &quot;temperature&quot;: 1.4}, &quot;type&quot;: &quot;Feature&quot;}, {&quot;bbox&quot;: [-78.80111463042459, 42.9032690754713, -78.80111463042459, 42.9032690754713], &quot;geometry&quot;: {&quot;coordinates&quot;: [-78.80111463042459, 42.9032690754713], &quot;type&quot;: &quot;Point&quot;}, &quot;id&quot;: &quot;5&quot;, &quot;properties&quot;: {&quot;__folium_color&quot;: &quot;#1f9f88&quot;, &quot;temperature&quot;: 1.3}, &quot;type&quot;: &quot;Feature&quot;}, {&quot;bbox&quot;: [-78.80111463042459, 42.9173122777099, -78.80111463042459, 42.9173122777099], &quot;geometry&quot;: {&quot;coordinates&quot;: [-78.80111463042459, 42.9173122777099], &quot;type&quot;: &quot;Point&quot;}, &quot;id&quot;: &quot;6&quot;, &quot;properties&quot;: {&quot;__folium_color&quot;: &quot;#81d34d&quot;, &quot;temperature&quot;: 1.7}, &quot;type&quot;: &quot;Feature&quot;}, {&quot;bbox&quot;: [-78.80111463042459, 42.9313554799485, -78.80111463042459, 42.9313554799485], &quot;geometry&quot;: {&quot;coordinates&quot;: [-78.80111463042459, 42.9313554799485], &quot;type&quot;: &quot;Point&quot;}, &quot;id&quot;: &quot;7&quot;, &quot;properties&quot;: {&quot;__folium_color&quot;: &quot;#5cc863&quot;, &quot;temperature&quot;: 1.6}, &quot;type&quot;: &quot;Feature&quot;}, {&quot;bbox&quot;: [-78.80111463042459, 42.9453986821871, -78.80111463042459, 42.9453986821871], &quot;geometry&quot;: {&quot;coordinates&quot;: [-78.80111463042459, 42.9453986821871], &quot;type&quot;: &quot;Point&quot;}, &quot;id&quot;: &quot;8&quot;, &quot;properties&quot;: {&quot;__folium_color&quot;: &quot;#d5e21a&quot;, &quot;temperature&quot;: 1.9}, &quot;type&quot;: &quot;Feature&quot;}, {&quot;bbox&quot;: [-78.81302363499779, 42.833053064278296, -78.81302363499779, 42.833053064278296], &quot;geometry&quot;: {&quot;coordinates&quot;: [-78.81302363499779, 42.833053064278296], &quot;type&quot;: &quot;Point&quot;}, &quot;id&quot;: &quot;11&quot;, &quot;properties&quot;: {&quot;__folium_color&quot;: &quot;#33628d&quot;, &quot;temperature&quot;: 0.9}, &quot;type&quot;: &quot;Feature&quot;}, {&quot;bbox&quot;: [-78.81302363499779, 42.8470962665169, -78.81302363499779, 42.8470962665169], &quot;geometry&quot;: {&quot;coordinates&quot;: [-78.81302363499779, 42.8470962665169], &quot;type&quot;: &quot;Point&quot;}, &quot;id&quot;: &quot;12&quot;, &quot;properties&quot;: {&quot;__folium_color&quot;: &quot;#2c718e&quot;, &quot;temperature&quot;: 1.0}, &quot;type&quot;: &quot;Feature&quot;}, {&quot;bbox&quot;: [-78.81302363499779, 42.861139468755496, -78.81302363499779, 42.861139468755496], &quot;geometry&quot;: {&quot;coordinates&quot;: [-78.81302363499779, 42.861139468755496], &quot;type&quot;: &quot;Point&quot;}, &quot;id&quot;: &quot;13&quot;, &quot;properties&quot;: {&quot;__folium_color&quot;: &quot;#2c718e&quot;, &quot;temperature&quot;: 1.0}, &quot;type&quot;: &quot;Feature&quot;}, {&quot;bbox&quot;: [-78.81302363499779, 42.8751826709941, -78.81302363499779, 42.8751826709941], &quot;geometry&quot;: {&quot;coordinates&quot;: [-78.81302363499779, 42.8751826709941], &quot;type&quot;: &quot;Point&quot;}, &quot;id&quot;: &quot;14&quot;, &quot;properties&quot;: {&quot;__folium_color&quot;: &quot;#26818e&quot;, &quot;temperature&quot;: 1.1}, &quot;type&quot;: &quot;Feature&quot;}, {&quot;bbox&quot;: [-78.81302363499779, 42.8892258732327, -78.81302363499779, 42.8892258732327], &quot;geometry&quot;: {&quot;coordinates&quot;: [-78.81302363499779, 42.8892258732327], &quot;type&quot;: &quot;Point&quot;}, &quot;id&quot;: &quot;15&quot;, &quot;properties&quot;: {&quot;__folium_color&quot;: &quot;#2c718e&quot;, &quot;temperature&quot;: 1.0}, &quot;type&quot;: &quot;Feature&quot;}, {&quot;bbox&quot;: [-78.81302363499779, 42.9032690754713, -78.81302363499779, 42.9032690754713], &quot;geometry&quot;: {&quot;coordinates&quot;: [-78.81302363499779, 42.9032690754713], &quot;type&quot;: &quot;Point&quot;}, &quot;id&quot;: &quot;16&quot;, &quot;properties&quot;: {&quot;__folium_color&quot;: &quot;#1f9f88&quot;, &quot;temperature&quot;: 1.3}, &quot;type&quot;: &quot;Feature&quot;}, {&quot;bbox&quot;: [-78.81302363499779, 42.9173122777099, -78.81302363499779, 42.9173122777099], &quot;geometry&quot;: {&quot;coordinates&quot;: [-78.81302363499779, 42.9173122777099], &quot;type&quot;: &quot;Point&quot;}, &quot;id&quot;: &quot;17&quot;, &quot;properties&quot;: {&quot;__folium_color&quot;: &quot;#1f9f88&quot;, &quot;temperature&quot;: 1.3}, &quot;type&quot;: &quot;Feature&quot;}, {&quot;bbox&quot;: [-78.81302363499779, 42.9313554799485, -78.81302363499779, 42.9313554799485], &quot;geometry&quot;: {&quot;coordinates&quot;: [-78.81302363499779, 42.9313554799485], &quot;type&quot;: &quot;Point&quot;}, &quot;id&quot;: &quot;18&quot;, &quot;properties&quot;: {&quot;__folium_color&quot;: &quot;#81d34d&quot;, &quot;temperature&quot;: 1.7}, &quot;type&quot;: &quot;Feature&quot;}, {&quot;bbox&quot;: [-78.81302363499779, 42.9453986821871, -78.81302363499779, 42.9453986821871], &quot;geometry&quot;: {&quot;coordinates&quot;: [-78.81302363499779, 42.9453986821871], &quot;type&quot;: &quot;Point&quot;}, &quot;id&quot;: &quot;19&quot;, &quot;properties&quot;: {&quot;__folium_color&quot;: &quot;#5cc863&quot;, &quot;temperature&quot;: 1.6}, &quot;type&quot;: &quot;Feature&quot;}, {&quot;bbox&quot;: [-78.81302363499779, 42.9594418844257, -78.81302363499779, 42.9594418844257], &quot;geometry&quot;: {&quot;coordinates&quot;: [-78.81302363499779, 42.9594418844257], &quot;type&quot;: &quot;Point&quot;}, &quot;id&quot;: &quot;20&quot;, &quot;properties&quot;: {&quot;__folium_color&quot;: &quot;#aadc32&quot;, &quot;temperature&quot;: 1.8}, &quot;type&quot;: &quot;Feature&quot;}, {&quot;bbox&quot;: [-78.82493263957099, 42.833053064278296, -78.82493263957099, 42.833053064278296], &quot;geometry&quot;: {&quot;coordinates&quot;: [-78.82493263957099, 42.833053064278296], &quot;type&quot;: &quot;Point&quot;}, &quot;id&quot;: &quot;22&quot;, &quot;properties&quot;: {&quot;__folium_color&quot;: &quot;#33628d&quot;, &quot;temperature&quot;: 0.9}, &quot;type&quot;: &quot;Feature&quot;}, {&quot;bbox&quot;: [-78.82493263957099, 42.8470962665169, -78.82493263957099, 42.8470962665169], &quot;geometry&quot;: {&quot;coordinates&quot;: [-78.82493263957099, 42.8470962665169], &quot;type&quot;: &quot;Point&quot;}, &quot;id&quot;: &quot;23&quot;, &quot;properties&quot;: {&quot;__folium_color&quot;: &quot;#2c718e&quot;, &quot;temperature&quot;: 1.0}, &quot;type&quot;: &quot;Feature&quot;}, {&quot;bbox&quot;: [-78.82493263957099, 42.861139468755496, -78.82493263957099, 42.861139468755496], &quot;geometry&quot;: {&quot;coordinates&quot;: [-78.82493263957099, 42.861139468755496], &quot;type&quot;: &quot;Point&quot;}, &quot;id&quot;: &quot;24&quot;, &quot;properties&quot;: {&quot;__folium_color&quot;: &quot;#2c718e&quot;, &quot;temperature&quot;: 1.0}, &quot;type&quot;: &quot;Feature&quot;}, {&quot;bbox&quot;: [-78.82493263957099, 42.8751826709941, -78.82493263957099, 42.8751826709941], &quot;geometry&quot;: {&quot;coordinates&quot;: [-78.82493263957099, 42.8751826709941], &quot;type&quot;: &quot;Point&quot;}, &quot;id&quot;: &quot;25&quot;, &quot;properties&quot;: {&quot;__folium_color&quot;: &quot;#26818e&quot;, &quot;temperature&quot;: 1.1}, &quot;type&quot;: &quot;Feature&quot;}, {&quot;bbox&quot;: [-78.82493263957099, 42.8892258732327, -78.82493263957099, 42.8892258732327], &quot;geometry&quot;: {&quot;coordinates&quot;: [-78.82493263957099, 42.8892258732327], &quot;type&quot;: &quot;Point&quot;}, &quot;id&quot;: &quot;26&quot;, &quot;properties&quot;: {&quot;__folium_color&quot;: &quot;#21908d&quot;, &quot;temperature&quot;: 1.2}, &quot;type&quot;: &quot;Feature&quot;}, {&quot;bbox&quot;: [-78.82493263957099, 42.9032690754713, -78.82493263957099, 42.9032690754713], &quot;geometry&quot;: {&quot;coordinates&quot;: [-78.82493263957099, 42.9032690754713], &quot;type&quot;: &quot;Point&quot;}, &quot;id&quot;: &quot;27&quot;, &quot;properties&quot;: {&quot;__folium_color&quot;: &quot;#81d34d&quot;, &quot;temperature&quot;: 1.7}, &quot;type&quot;: &quot;Feature&quot;}, {&quot;bbox&quot;: [-78.82493263957099, 42.9173122777099, -78.82493263957099, 42.9173122777099], &quot;geometry&quot;: {&quot;coordinates&quot;: [-78.82493263957099, 42.9173122777099], &quot;type&quot;: &quot;Point&quot;}, &quot;id&quot;: &quot;28&quot;, &quot;properties&quot;: {&quot;__folium_color&quot;: &quot;#5cc863&quot;, &quot;temperature&quot;: 1.6}, &quot;type&quot;: &quot;Feature&quot;}, {&quot;bbox&quot;: [-78.82493263957099, 42.9313554799485, -78.82493263957099, 42.9313554799485], &quot;geometry&quot;: {&quot;coordinates&quot;: [-78.82493263957099, 42.9313554799485], &quot;type&quot;: &quot;Point&quot;}, &quot;id&quot;: &quot;29&quot;, &quot;properties&quot;: {&quot;__folium_color&quot;: &quot;#5cc863&quot;, &quot;temperature&quot;: 1.6}, &quot;type&quot;: &quot;Feature&quot;}, {&quot;bbox&quot;: [-78.82493263957099, 42.9453986821871, -78.82493263957099, 42.9453986821871], &quot;geometry&quot;: {&quot;coordinates&quot;: [-78.82493263957099, 42.9453986821871], &quot;type&quot;: &quot;Point&quot;}, &quot;id&quot;: &quot;30&quot;, &quot;properties&quot;: {&quot;__folium_color&quot;: &quot;#5cc863&quot;, &quot;temperature&quot;: 1.6}, &quot;type&quot;: &quot;Feature&quot;}, {&quot;bbox&quot;: [-78.8368416441442, 42.833053064278296, -78.8368416441442, 42.833053064278296], &quot;geometry&quot;: {&quot;coordinates&quot;: [-78.8368416441442, 42.833053064278296], &quot;type&quot;: &quot;Point&quot;}, &quot;id&quot;: &quot;33&quot;, &quot;properties&quot;: {&quot;__folium_color&quot;: &quot;#2c718e&quot;, &quot;temperature&quot;: 1.0}, &quot;type&quot;: &quot;Feature&quot;}, {&quot;bbox&quot;: [-78.8368416441442, 42.8470962665169, -78.8368416441442, 42.8470962665169], &quot;geometry&quot;: {&quot;coordinates&quot;: [-78.8368416441442, 42.8470962665169], &quot;type&quot;: &quot;Point&quot;}, &quot;id&quot;: &quot;34&quot;, &quot;properties&quot;: {&quot;__folium_color&quot;: &quot;#2c718e&quot;, &quot;temperature&quot;: 1.0}, &quot;type&quot;: &quot;Feature&quot;}, {&quot;bbox&quot;: [-78.8368416441442, 42.861139468755496, -78.8368416441442, 42.861139468755496], &quot;geometry&quot;: {&quot;coordinates&quot;: [-78.8368416441442, 42.861139468755496], &quot;type&quot;: &quot;Point&quot;}, &quot;id&quot;: &quot;35&quot;, &quot;properties&quot;: {&quot;__folium_color&quot;: &quot;#2c718e&quot;, &quot;temperature&quot;: 1.0}, &quot;type&quot;: &quot;Feature&quot;}, {&quot;bbox&quot;: [-78.8368416441442, 42.8751826709941, -78.8368416441442, 42.8751826709941], &quot;geometry&quot;: {&quot;coordinates&quot;: [-78.8368416441442, 42.8751826709941], &quot;type&quot;: &quot;Point&quot;}, &quot;id&quot;: &quot;36&quot;, &quot;properties&quot;: {&quot;__folium_color&quot;: &quot;#1f9f88&quot;, &quot;temperature&quot;: 1.3}, &quot;type&quot;: &quot;Feature&quot;}, {&quot;bbox&quot;: [-78.8368416441442, 42.8892258732327, -78.8368416441442, 42.8892258732327], &quot;geometry&quot;: {&quot;coordinates&quot;: [-78.8368416441442, 42.8892258732327], &quot;type&quot;: &quot;Point&quot;}, &quot;id&quot;: &quot;37&quot;, &quot;properties&quot;: {&quot;__folium_color&quot;: &quot;#21908d&quot;, &quot;temperature&quot;: 1.2}, &quot;type&quot;: &quot;Feature&quot;}, {&quot;bbox&quot;: [-78.8368416441442, 42.9032690754713, -78.8368416441442, 42.9032690754713], &quot;geometry&quot;: {&quot;coordinates&quot;: [-78.8368416441442, 42.9032690754713], &quot;type&quot;: &quot;Point&quot;}, &quot;id&quot;: &quot;38&quot;, &quot;properties&quot;: {&quot;__folium_color&quot;: &quot;#81d34d&quot;, &quot;temperature&quot;: 1.7}, &quot;type&quot;: &quot;Feature&quot;}, {&quot;bbox&quot;: [-78.8368416441442, 42.9173122777099, -78.8368416441442, 42.9173122777099], &quot;geometry&quot;: {&quot;coordinates&quot;: [-78.8368416441442, 42.9173122777099], &quot;type&quot;: &quot;Point&quot;}, &quot;id&quot;: &quot;39&quot;, &quot;properties&quot;: {&quot;__folium_color&quot;: &quot;#5cc863&quot;, &quot;temperature&quot;: 1.6}, &quot;type&quot;: &quot;Feature&quot;}, {&quot;bbox&quot;: [-78.8368416441442, 42.9313554799485, -78.8368416441442, 42.9313554799485], &quot;geometry&quot;: {&quot;coordinates&quot;: [-78.8368416441442, 42.9313554799485], &quot;type&quot;: &quot;Point&quot;}, &quot;id&quot;: &quot;40&quot;, &quot;properties&quot;: {&quot;__folium_color&quot;: &quot;#5cc863&quot;, &quot;temperature&quot;: 1.6}, &quot;type&quot;: &quot;Feature&quot;}, {&quot;bbox&quot;: [-78.8368416441442, 42.9453986821871, -78.8368416441442, 42.9453986821871], &quot;geometry&quot;: {&quot;coordinates&quot;: [-78.8368416441442, 42.9453986821871], &quot;type&quot;: &quot;Point&quot;}, &quot;id&quot;: &quot;41&quot;, &quot;properties&quot;: {&quot;__folium_color&quot;: &quot;#81d34d&quot;, &quot;temperature&quot;: 1.7}, &quot;type&quot;: &quot;Feature&quot;}, {&quot;bbox&quot;: [-78.8487506487174, 42.833053064278296, -78.8487506487174, 42.833053064278296], &quot;geometry&quot;: {&quot;coordinates&quot;: [-78.8487506487174, 42.833053064278296], &quot;type&quot;: &quot;Point&quot;}, &quot;id&quot;: &quot;44&quot;, &quot;properties&quot;: {&quot;__folium_color&quot;: &quot;#440154&quot;, &quot;temperature&quot;: 0.4}, &quot;type&quot;: &quot;Feature&quot;}, {&quot;bbox&quot;: [-78.8487506487174, 42.8470962665169, -78.8487506487174, 42.8470962665169], &quot;geometry&quot;: {&quot;coordinates&quot;: [-78.8487506487174, 42.8470962665169], &quot;type&quot;: &quot;Point&quot;}, &quot;id&quot;: &quot;45&quot;, &quot;properties&quot;: {&quot;__folium_color&quot;: &quot;#33628d&quot;, &quot;temperature&quot;: 0.9}, &quot;type&quot;: &quot;Feature&quot;}, {&quot;bbox&quot;: [-78.8487506487174, 42.861139468755496, -78.8487506487174, 42.861139468755496], &quot;geometry&quot;: {&quot;coordinates&quot;: [-78.8487506487174, 42.861139468755496], &quot;type&quot;: &quot;Point&quot;}, &quot;id&quot;: &quot;46&quot;, &quot;properties&quot;: {&quot;__folium_color&quot;: &quot;#2c718e&quot;, &quot;temperature&quot;: 1.0}, &quot;type&quot;: &quot;Feature&quot;}, {&quot;bbox&quot;: [-78.8487506487174, 42.8751826709941, -78.8487506487174, 42.8751826709941], &quot;geometry&quot;: {&quot;coordinates&quot;: [-78.8487506487174, 42.8751826709941], &quot;type&quot;: &quot;Point&quot;}, &quot;id&quot;: &quot;47&quot;, &quot;properties&quot;: {&quot;__folium_color&quot;: &quot;#1f9f88&quot;, &quot;temperature&quot;: 1.3}, &quot;type&quot;: &quot;Feature&quot;}, {&quot;bbox&quot;: [-78.8487506487174, 42.8892258732327, -78.8487506487174, 42.8892258732327], &quot;geometry&quot;: {&quot;coordinates&quot;: [-78.8487506487174, 42.8892258732327], &quot;type&quot;: &quot;Point&quot;}, &quot;id&quot;: &quot;48&quot;, &quot;properties&quot;: {&quot;__folium_color&quot;: &quot;#21908d&quot;, &quot;temperature&quot;: 1.2}, &quot;type&quot;: &quot;Feature&quot;}, {&quot;bbox&quot;: [-78.8487506487174, 42.9032690754713, -78.8487506487174, 42.9032690754713], &quot;geometry&quot;: {&quot;coordinates&quot;: [-78.8487506487174, 42.9032690754713], &quot;type&quot;: &quot;Point&quot;}, &quot;id&quot;: &quot;49&quot;, &quot;properties&quot;: {&quot;__folium_color&quot;: &quot;#5cc863&quot;, &quot;temperature&quot;: 1.6}, &quot;type&quot;: &quot;Feature&quot;}, {&quot;bbox&quot;: [-78.8487506487174, 42.9173122777099, -78.8487506487174, 42.9173122777099], &quot;geometry&quot;: {&quot;coordinates&quot;: [-78.8487506487174, 42.9173122777099], &quot;type&quot;: &quot;Point&quot;}, &quot;id&quot;: &quot;50&quot;, &quot;properties&quot;: {&quot;__folium_color&quot;: &quot;#5cc863&quot;, &quot;temperature&quot;: 1.6}, &quot;type&quot;: &quot;Feature&quot;}, {&quot;bbox&quot;: [-78.8487506487174, 42.9313554799485, -78.8487506487174, 42.9313554799485], &quot;geometry&quot;: {&quot;coordinates&quot;: [-78.8487506487174, 42.9313554799485], &quot;type&quot;: &quot;Point&quot;}, &quot;id&quot;: &quot;51&quot;, &quot;properties&quot;: {&quot;__folium_color&quot;: &quot;#aadc32&quot;, &quot;temperature&quot;: 1.8}, &quot;type&quot;: &quot;Feature&quot;}, {&quot;bbox&quot;: [-78.8487506487174, 42.9453986821871, -78.8487506487174, 42.9453986821871], &quot;geometry&quot;: {&quot;coordinates&quot;: [-78.8487506487174, 42.9453986821871], &quot;type&quot;: &quot;Point&quot;}, &quot;id&quot;: &quot;52&quot;, &quot;properties&quot;: {&quot;__folium_color&quot;: &quot;#d5e21a&quot;, &quot;temperature&quot;: 1.9}, &quot;type&quot;: &quot;Feature&quot;}, {&quot;bbox&quot;: [-78.8606596532906, 42.833053064278296, -78.8606596532906, 42.833053064278296], &quot;geometry&quot;: {&quot;coordinates&quot;: [-78.8606596532906, 42.833053064278296], &quot;type&quot;: &quot;Point&quot;}, &quot;id&quot;: &quot;55&quot;, &quot;properties&quot;: {&quot;__folium_color&quot;: &quot;#481769&quot;, &quot;temperature&quot;: 0.5}, &quot;type&quot;: &quot;Feature&quot;}, {&quot;bbox&quot;: [-78.8606596532906, 42.8470962665169, -78.8606596532906, 42.8470962665169], &quot;geometry&quot;: {&quot;coordinates&quot;: [-78.8606596532906, 42.8470962665169], &quot;type&quot;: &quot;Point&quot;}, &quot;id&quot;: &quot;56&quot;, &quot;properties&quot;: {&quot;__folium_color&quot;: &quot;#2c718e&quot;, &quot;temperature&quot;: 1.0}, &quot;type&quot;: &quot;Feature&quot;}, {&quot;bbox&quot;: [-78.8606596532906, 42.861139468755496, -78.8606596532906, 42.861139468755496], &quot;geometry&quot;: {&quot;coordinates&quot;: [-78.8606596532906, 42.861139468755496], &quot;type&quot;: &quot;Point&quot;}, &quot;id&quot;: &quot;57&quot;, &quot;properties&quot;: {&quot;__folium_color&quot;: &quot;#2c718e&quot;, &quot;temperature&quot;: 1.0}, &quot;type&quot;: &quot;Feature&quot;}, {&quot;bbox&quot;: [-78.8606596532906, 42.8751826709941, -78.8606596532906, 42.8751826709941], &quot;geometry&quot;: {&quot;coordinates&quot;: [-78.8606596532906, 42.8751826709941], &quot;type&quot;: &quot;Point&quot;}, &quot;id&quot;: &quot;58&quot;, &quot;properties&quot;: {&quot;__folium_color&quot;: &quot;#1f9f88&quot;, &quot;temperature&quot;: 1.3}, &quot;type&quot;: &quot;Feature&quot;}, {&quot;bbox&quot;: [-78.8606596532906, 42.8892258732327, -78.8606596532906, 42.8892258732327], &quot;geometry&quot;: {&quot;coordinates&quot;: [-78.8606596532906, 42.8892258732327], &quot;type&quot;: &quot;Point&quot;}, &quot;id&quot;: &quot;59&quot;, &quot;properties&quot;: {&quot;__folium_color&quot;: &quot;#26818e&quot;, &quot;temperature&quot;: 1.1}, &quot;type&quot;: &quot;Feature&quot;}, {&quot;bbox&quot;: [-78.8606596532906, 42.9032690754713, -78.8606596532906, 42.9032690754713], &quot;geometry&quot;: {&quot;coordinates&quot;: [-78.8606596532906, 42.9032690754713], &quot;type&quot;: &quot;Point&quot;}, &quot;id&quot;: &quot;60&quot;, &quot;properties&quot;: {&quot;__folium_color&quot;: &quot;#81d34d&quot;, &quot;temperature&quot;: 1.7}, &quot;type&quot;: &quot;Feature&quot;}, {&quot;bbox&quot;: [-78.8606596532906, 42.9173122777099, -78.8606596532906, 42.9173122777099], &quot;geometry&quot;: {&quot;coordinates&quot;: [-78.8606596532906, 42.9173122777099], &quot;type&quot;: &quot;Point&quot;}, &quot;id&quot;: &quot;61&quot;, &quot;properties&quot;: {&quot;__folium_color&quot;: &quot;#aadc32&quot;, &quot;temperature&quot;: 1.8}, &quot;type&quot;: &quot;Feature&quot;}, {&quot;bbox&quot;: [-78.8606596532906, 42.9313554799485, -78.8606596532906, 42.9313554799485], &quot;geometry&quot;: {&quot;coordinates&quot;: [-78.8606596532906, 42.9313554799485], &quot;type&quot;: &quot;Point&quot;}, &quot;id&quot;: &quot;62&quot;, &quot;properties&quot;: {&quot;__folium_color&quot;: &quot;#d5e21a&quot;, &quot;temperature&quot;: 1.9}, &quot;type&quot;: &quot;Feature&quot;}, {&quot;bbox&quot;: [-78.8606596532906, 42.9453986821871, -78.8606596532906, 42.9453986821871], &quot;geometry&quot;: {&quot;coordinates&quot;: [-78.8606596532906, 42.9453986821871], &quot;type&quot;: &quot;Point&quot;}, &quot;id&quot;: &quot;63&quot;, &quot;properties&quot;: {&quot;__folium_color&quot;: &quot;#fde725&quot;, &quot;temperature&quot;: 2.0}, &quot;type&quot;: &quot;Feature&quot;}, {&quot;bbox&quot;: [-78.8725686578638, 42.861139468755496, -78.8725686578638, 42.861139468755496], &quot;geometry&quot;: {&quot;coordinates&quot;: [-78.8725686578638, 42.861139468755496], &quot;type&quot;: &quot;Point&quot;}, &quot;id&quot;: &quot;68&quot;, &quot;properties&quot;: {&quot;__folium_color&quot;: &quot;#440154&quot;, &quot;temperature&quot;: 0.4}, &quot;type&quot;: &quot;Feature&quot;}, {&quot;bbox&quot;: [-78.8725686578638, 42.8751826709941, -78.8725686578638, 42.8751826709941], &quot;geometry&quot;: {&quot;coordinates&quot;: [-78.8725686578638, 42.8751826709941], &quot;type&quot;: &quot;Point&quot;}, &quot;id&quot;: &quot;69&quot;, &quot;properties&quot;: {&quot;__folium_color&quot;: &quot;#21908d&quot;, &quot;temperature&quot;: 1.2}, &quot;type&quot;: &quot;Feature&quot;}, {&quot;bbox&quot;: [-78.8725686578638, 42.8892258732327, -78.8725686578638, 42.8892258732327], &quot;geometry&quot;: {&quot;coordinates&quot;: [-78.8725686578638, 42.8892258732327], &quot;type&quot;: &quot;Point&quot;}, &quot;id&quot;: &quot;70&quot;, &quot;properties&quot;: {&quot;__folium_color&quot;: &quot;#26818e&quot;, &quot;temperature&quot;: 1.1}, &quot;type&quot;: &quot;Feature&quot;}, {&quot;bbox&quot;: [-78.8725686578638, 42.9032690754713, -78.8725686578638, 42.9032690754713], &quot;geometry&quot;: {&quot;coordinates&quot;: [-78.8725686578638, 42.9032690754713], &quot;type&quot;: &quot;Point&quot;}, &quot;id&quot;: &quot;71&quot;, &quot;properties&quot;: {&quot;__folium_color&quot;: &quot;#81d34d&quot;, &quot;temperature&quot;: 1.7}, &quot;type&quot;: &quot;Feature&quot;}, {&quot;bbox&quot;: [-78.8725686578638, 42.9173122777099, -78.8725686578638, 42.9173122777099], &quot;geometry&quot;: {&quot;coordinates&quot;: [-78.8725686578638, 42.9173122777099], &quot;type&quot;: &quot;Point&quot;}, &quot;id&quot;: &quot;72&quot;, &quot;properties&quot;: {&quot;__folium_color&quot;: &quot;#81d34d&quot;, &quot;temperature&quot;: 1.7}, &quot;type&quot;: &quot;Feature&quot;}, {&quot;bbox&quot;: [-78.8725686578638, 42.9313554799485, -78.8725686578638, 42.9313554799485], &quot;geometry&quot;: {&quot;coordinates&quot;: [-78.8725686578638, 42.9313554799485], &quot;type&quot;: &quot;Point&quot;}, &quot;id&quot;: &quot;73&quot;, &quot;properties&quot;: {&quot;__folium_color&quot;: &quot;#fde725&quot;, &quot;temperature&quot;: 2.0}, &quot;type&quot;: &quot;Feature&quot;}, {&quot;bbox&quot;: [-78.8725686578638, 42.9453986821871, -78.8725686578638, 42.9453986821871], &quot;geometry&quot;: {&quot;coordinates&quot;: [-78.8725686578638, 42.9453986821871], &quot;type&quot;: &quot;Point&quot;}, &quot;id&quot;: &quot;74&quot;, &quot;properties&quot;: {&quot;__folium_color&quot;: &quot;#d5e21a&quot;, &quot;temperature&quot;: 1.9}, &quot;type&quot;: &quot;Feature&quot;}, {&quot;bbox&quot;: [-78.884477662437, 42.8751826709941, -78.884477662437, 42.8751826709941], &quot;geometry&quot;: {&quot;coordinates&quot;: [-78.884477662437, 42.8751826709941], &quot;type&quot;: &quot;Point&quot;}, &quot;id&quot;: &quot;80&quot;, &quot;properties&quot;: {&quot;__folium_color&quot;: &quot;#21908d&quot;, &quot;temperature&quot;: 1.2}, &quot;type&quot;: &quot;Feature&quot;}, {&quot;bbox&quot;: [-78.884477662437, 42.8892258732327, -78.884477662437, 42.8892258732327], &quot;geometry&quot;: {&quot;coordinates&quot;: [-78.884477662437, 42.8892258732327], &quot;type&quot;: &quot;Point&quot;}, &quot;id&quot;: &quot;81&quot;, &quot;properties&quot;: {&quot;__folium_color&quot;: &quot;#21908d&quot;, &quot;temperature&quot;: 1.2}, &quot;type&quot;: &quot;Feature&quot;}, {&quot;bbox&quot;: [-78.884477662437, 42.9032690754713, -78.884477662437, 42.9032690754713], &quot;geometry&quot;: {&quot;coordinates&quot;: [-78.884477662437, 42.9032690754713], &quot;type&quot;: &quot;Point&quot;}, &quot;id&quot;: &quot;82&quot;, &quot;properties&quot;: {&quot;__folium_color&quot;: &quot;#81d34d&quot;, &quot;temperature&quot;: 1.7}, &quot;type&quot;: &quot;Feature&quot;}, {&quot;bbox&quot;: [-78.884477662437, 42.9173122777099, -78.884477662437, 42.9173122777099], &quot;geometry&quot;: {&quot;coordinates&quot;: [-78.884477662437, 42.9173122777099], &quot;type&quot;: &quot;Point&quot;}, &quot;id&quot;: &quot;83&quot;, &quot;properties&quot;: {&quot;__folium_color&quot;: &quot;#aadc32&quot;, &quot;temperature&quot;: 1.8}, &quot;type&quot;: &quot;Feature&quot;}, {&quot;bbox&quot;: [-78.884477662437, 42.9313554799485, -78.884477662437, 42.9313554799485], &quot;geometry&quot;: {&quot;coordinates&quot;: [-78.884477662437, 42.9313554799485], &quot;type&quot;: &quot;Point&quot;}, &quot;id&quot;: &quot;84&quot;, &quot;properties&quot;: {&quot;__folium_color&quot;: &quot;#aadc32&quot;, &quot;temperature&quot;: 1.8}, &quot;type&quot;: &quot;Feature&quot;}, {&quot;bbox&quot;: [-78.884477662437, 42.9453986821871, -78.884477662437, 42.9453986821871], &quot;geometry&quot;: {&quot;coordinates&quot;: [-78.884477662437, 42.9453986821871], &quot;type&quot;: &quot;Point&quot;}, &quot;id&quot;: &quot;85&quot;, &quot;properties&quot;: {&quot;__folium_color&quot;: &quot;#aadc32&quot;, &quot;temperature&quot;: 1.8}, &quot;type&quot;: &quot;Feature&quot;}, {&quot;bbox&quot;: [-78.8963866670102, 42.8892258732327, -78.8963866670102, 42.8892258732327], &quot;geometry&quot;: {&quot;coordinates&quot;: [-78.8963866670102, 42.8892258732327], &quot;type&quot;: &quot;Point&quot;}, &quot;id&quot;: &quot;92&quot;, &quot;properties&quot;: {&quot;__folium_color&quot;: &quot;#3dbc74&quot;, &quot;temperature&quot;: 1.5}, &quot;type&quot;: &quot;Feature&quot;}, {&quot;bbox&quot;: [-78.8963866670102, 42.9032690754713, -78.8963866670102, 42.9032690754713], &quot;geometry&quot;: {&quot;coordinates&quot;: [-78.8963866670102, 42.9032690754713], &quot;type&quot;: &quot;Point&quot;}, &quot;id&quot;: &quot;93&quot;, &quot;properties&quot;: {&quot;__folium_color&quot;: &quot;#81d34d&quot;, &quot;temperature&quot;: 1.7}, &quot;type&quot;: &quot;Feature&quot;}, {&quot;bbox&quot;: [-78.8963866670102, 42.9173122777099, -78.8963866670102, 42.9173122777099], &quot;geometry&quot;: {&quot;coordinates&quot;: [-78.8963866670102, 42.9173122777099], &quot;type&quot;: &quot;Point&quot;}, &quot;id&quot;: &quot;94&quot;, &quot;properties&quot;: {&quot;__folium_color&quot;: &quot;#81d34d&quot;, &quot;temperature&quot;: 1.7}, &quot;type&quot;: &quot;Feature&quot;}, {&quot;bbox&quot;: [-78.8963866670102, 42.9313554799485, -78.8963866670102, 42.9313554799485], &quot;geometry&quot;: {&quot;coordinates&quot;: [-78.8963866670102, 42.9313554799485], &quot;type&quot;: &quot;Point&quot;}, &quot;id&quot;: &quot;95&quot;, &quot;properties&quot;: {&quot;__folium_color&quot;: &quot;#aadc32&quot;, &quot;temperature&quot;: 1.8}, &quot;type&quot;: &quot;Feature&quot;}, {&quot;bbox&quot;: [-78.8963866670102, 42.9453986821871, -78.8963866670102, 42.9453986821871], &quot;geometry&quot;: {&quot;coordinates&quot;: [-78.8963866670102, 42.9453986821871], &quot;type&quot;: &quot;Point&quot;}, &quot;id&quot;: &quot;96&quot;, &quot;properties&quot;: {&quot;__folium_color&quot;: &quot;#81d34d&quot;, &quot;temperature&quot;: 1.7}, &quot;type&quot;: &quot;Feature&quot;}, {&quot;bbox&quot;: [-78.8963866670102, 42.9594418844257, -78.8963866670102, 42.9594418844257], &quot;geometry&quot;: {&quot;coordinates&quot;: [-78.8963866670102, 42.9594418844257], &quot;type&quot;: &quot;Point&quot;}, &quot;id&quot;: &quot;97&quot;, &quot;properties&quot;: {&quot;__folium_color&quot;: &quot;#81d34d&quot;, &quot;temperature&quot;: 1.7}, &quot;type&quot;: &quot;Feature&quot;}, {&quot;bbox&quot;: [-78.9082956715834, 42.9313554799485, -78.9082956715834, 42.9313554799485], &quot;geometry&quot;: {&quot;coordinates&quot;: [-78.9082956715834, 42.9313554799485], &quot;type&quot;: &quot;Point&quot;}, &quot;id&quot;: &quot;106&quot;, &quot;properties&quot;: {&quot;__folium_color&quot;: &quot;#d5e21a&quot;, &quot;temperature&quot;: 1.9}, &quot;type&quot;: &quot;Feature&quot;}, {&quot;bbox&quot;: [-78.9082956715834, 42.9453986821871, -78.9082956715834, 42.9453986821871], &quot;geometry&quot;: {&quot;coordinates&quot;: [-78.9082956715834, 42.9453986821871], &quot;type&quot;: &quot;Point&quot;}, &quot;id&quot;: &quot;107&quot;, &quot;properties&quot;: {&quot;__folium_color&quot;: &quot;#aadc32&quot;, &quot;temperature&quot;: 1.8}, &quot;type&quot;: &quot;Feature&quot;}], &quot;type&quot;: &quot;FeatureCollection&quot;});\n",
       "\n",
       "        \n",
       "    \n",
       "    geo_json_f07e3aacb81a26e0a3d9b61b7c8a8e00.bindTooltip(\n",
       "    function(layer){\n",
       "    let div = L.DomUtil.create(&#x27;div&#x27;);\n",
       "    \n",
       "    let handleObject = feature=&gt;typeof(feature)==&#x27;object&#x27; ? JSON.stringify(feature) : feature;\n",
       "    let fields = [&quot;temperature&quot;];\n",
       "    let aliases = [&quot;temperature&quot;];\n",
       "    let table = &#x27;&lt;table&gt;&#x27; +\n",
       "        String(\n",
       "        fields.map(\n",
       "        (v,i)=&gt;\n",
       "        `&lt;tr&gt;\n",
       "            &lt;th&gt;${aliases[i]}&lt;/th&gt;\n",
       "            \n",
       "            &lt;td&gt;${handleObject(layer.feature.properties[v])}&lt;/td&gt;\n",
       "        &lt;/tr&gt;`).join(&#x27;&#x27;))\n",
       "    +&#x27;&lt;/table&gt;&#x27;;\n",
       "    div.innerHTML=table;\n",
       "    \n",
       "    return div\n",
       "    }\n",
       "    ,{&quot;className&quot;: &quot;foliumtooltip&quot;, &quot;sticky&quot;: true});\n",
       "                     \n",
       "    \n",
       "    var color_map_fb16af7288d0c0f7cf8bbee16cb3bf9e = {};\n",
       "\n",
       "    \n",
       "    color_map_fb16af7288d0c0f7cf8bbee16cb3bf9e.color = d3.scale.threshold()\n",
       "              .domain([0.4, 0.40320641282565134, 0.4064128256513026, 0.4096192384769539, 0.41282565130260523, 0.41603206412825655, 0.4192384769539078, 0.42244488977955913, 0.42565130260521045, 0.42885771543086176, 0.432064128256513, 0.43527054108216434, 0.43847695390781566, 0.441683366733467, 0.44488977955911824, 0.44809619238476955, 0.45130260521042087, 0.4545090180360722, 0.45771543086172345, 0.46092184368737477, 0.4641282565130261, 0.4673346693386774, 0.47054108216432866, 0.47374749498998, 0.4769539078156313, 0.48016032064128256, 0.4833667334669339, 0.4865731462925852, 0.4897795591182365, 0.4929859719438878, 0.4961923847695391, 0.4993987975951904, 0.5026052104208417, 0.505811623246493, 0.5090180360721444, 0.5122244488977956, 0.5154308617234469, 0.5186372745490982, 0.5218436873747495, 0.5250501002004009, 0.5282565130260521, 0.5314629258517034, 0.5346693386773548, 0.537875751503006, 0.5410821643286574, 0.5442885771543087, 0.5474949899799599, 0.5507014028056112, 0.5539078156312626, 0.5571142284569138, 0.5603206412825652, 0.5635270541082165, 0.5667334669338677, 0.5699398797595191, 0.5731462925851704, 0.5763527054108217, 0.579559118236473, 0.5827655310621243, 0.5859719438877756, 0.5891783567134269, 0.5923847695390781, 0.5955911823647295, 0.5987975951903808, 0.602004008016032, 0.6052104208416834, 0.6084168336673347, 0.611623246492986, 0.6148296593186373, 0.6180360721442886, 0.62124248496994, 0.6244488977955912, 0.6276553106212426, 0.6308617234468938, 0.6340681362725451, 0.6372745490981964, 0.6404809619238477, 0.643687374749499, 0.6468937875751504, 0.6501002004008016, 0.6533066132264529, 0.6565130260521042, 0.6597194388777555, 0.6629258517034069, 0.6661322645290582, 0.6693386773547094, 0.6725450901803607, 0.675751503006012, 0.6789579158316634, 0.6821643286573147, 0.685370741482966, 0.6885771543086172, 0.6917835671342685, 0.69498997995992, 0.6981963927855712, 0.7014028056112225, 0.7046092184368737, 0.7078156312625251, 0.7110220440881765, 0.7142284569138277, 0.717434869739479, 0.7206412825651303, 0.7238476953907816, 0.7270541082164329, 0.7302605210420843, 0.7334669338677355, 0.7366733466933868, 0.7398797595190382, 0.7430861723446894, 0.7462925851703408, 0.7494989979959921, 0.7527054108216433, 0.7559118236472946, 0.759118236472946, 0.7623246492985972, 0.7655310621242486, 0.7687374749498999, 0.7719438877755511, 0.7751503006012024, 0.7783567134268538, 0.7815631262525051, 0.7847695390781564, 0.7879759519038076, 0.7911823647294589, 0.7943887775551103, 0.7975951903807615, 0.8008016032064129, 0.8040080160320642, 0.8072144288577154, 0.8104208416833667, 0.8136272545090181, 0.8168336673346693, 0.8200400801603207, 0.823246492985972, 0.8264529058116232, 0.8296593186372746, 0.8328657314629259, 0.8360721442885772, 0.8392785571142285, 0.8424849699398798, 0.845691382765531, 0.8488977955911824, 0.8521042084168338, 0.855310621242485, 0.8585170340681363, 0.8617234468937875, 0.8649298597194389, 0.8681362725450903, 0.8713426853707416, 0.8745490981963928, 0.8777555110220441, 0.8809619238476953, 0.8841683366733468, 0.8873747494989981, 0.8905811623246493, 0.8937875751503006, 0.8969939879759519, 0.9002004008016032, 0.9034068136272546, 0.9066132264529059, 0.9098196392785571, 0.9130260521042084, 0.9162324649298598, 0.919438877755511, 0.9226452905811624, 0.9258517034068137, 0.9290581162324649, 0.9322645290581163, 0.9354709418837676, 0.9386773547094189, 0.9418837675350702, 0.9450901803607215, 0.9482965931863728, 0.9515030060120241, 0.9547094188376753, 0.9579158316633267, 0.961122244488978, 0.9643286573146294, 0.9675350701402805, 0.9707414829659319, 0.9739478957915833, 0.9771543086172345, 0.9803607214428859, 0.983567134268537, 0.9867735470941884, 0.9899799599198398, 0.993186372745491, 0.9963927855711423, 0.9995991983967936, 1.002805611222445, 1.0060120240480963, 1.0092184368737476, 1.0124248496993988, 1.01563126252505, 1.0188376753507016, 1.0220440881763528, 1.025250501002004, 1.0284569138276554, 1.0316633266533066, 1.034869739478958, 1.0380761523046091, 1.0412825651302606, 1.044488977955912, 1.0476953907815632, 1.0509018036072146, 1.0541082164328657, 1.0573146292585172, 1.0605210420841684, 1.0637274549098197, 1.066933867735471, 1.0701402805611222, 1.0733466933867737, 1.076553106212425, 1.0797595190380762, 1.0829659318637275, 1.0861723446893787, 1.0893787575150302, 1.0925851703406815, 1.0957915831663327, 1.098997995991984, 1.1022044088176353, 1.1054108216432867, 1.1086172344689378, 1.1118236472945893, 1.1150300601202405, 1.1182364729458918, 1.1214428857715433, 1.1246492985971943, 1.1278557114228458, 1.131062124248497, 1.1342685370741483, 1.1374749498997996, 1.1406813627254508, 1.1438877755511023, 1.1470941883767536, 1.1503006012024048, 1.153507014028056, 1.1567134268537074, 1.1599198396793589, 1.1631262525050101, 1.1663326653306614, 1.1695390781563126, 1.172745490981964, 1.1759519038076154, 1.1791583166332664, 1.182364729458918, 1.1855711422845692, 1.1887775551102204, 1.191983967935872, 1.195190380761523, 1.1983967935871744, 1.2016032064128257, 1.204809619238477, 1.2080160320641284, 1.2112224448897795, 1.214428857715431, 1.2176352705410822, 1.2208416833667335, 1.224048096192385, 1.227254509018036, 1.2304609218436875, 1.2336673346693385, 1.23687374749499, 1.2400801603206415, 1.2432865731462925, 1.246492985971944, 1.249699398797595, 1.2529058116232465, 1.256112224448898, 1.259318637274549, 1.2625250501002006, 1.2657314629258516, 1.268937875751503, 1.2721442885771546, 1.2753507014028056, 1.278557114228457, 1.2817635270541081, 1.2849699398797596, 1.288176352705411, 1.2913827655310621, 1.2945891783567136, 1.2977955911823646, 1.3010020040080161, 1.3042084168336674, 1.3074148296593187, 1.3106212424849701, 1.3138276553106212, 1.3170340681362727, 1.320240480961924, 1.3234468937875752, 1.3266533066132267, 1.3298597194388777, 1.3330661322645292, 1.3362725450901805, 1.3394789579158317, 1.3426853707414832, 1.3458917835671342, 1.3490981963927857, 1.352304609218437, 1.3555110220440882, 1.3587174348697397, 1.3619238476953908, 1.3651302605210422, 1.3683366733466935, 1.3715430861723448, 1.374749498997996, 1.3779559118236473, 1.3811623246492988, 1.38436873747495, 1.3875751503006013, 1.3907815631262526, 1.3939879759519038, 1.3971943887775553, 1.4004008016032063, 1.4036072144288578, 1.4068136272545093, 1.4100200400801604, 1.4132264529058118, 1.4164328657314629, 1.4196392785571144, 1.4228456913827658, 1.4260521042084169, 1.4292585170340684, 1.4324649298597194, 1.4356713426853709, 1.438877755511022, 1.4420841683366734, 1.445290581162325, 1.448496993987976, 1.4517034068136274, 1.4549098196392785, 1.45811623246493, 1.4613226452905814, 1.4645290581162325, 1.467735470941884, 1.470941883767535, 1.4741482965931865, 1.477354709418838, 1.480561122244489, 1.4837675350701405, 1.4869739478957915, 1.490180360721443, 1.493386773547094, 1.4965931863727455, 1.499799599198397, 1.503006012024048, 1.5062124248496995, 1.5094188376753506, 1.512625250501002, 1.5158316633266535, 1.5190380761523046, 1.522244488977956, 1.525450901803607, 1.5286573146292586, 1.53186372745491, 1.535070140280561, 1.5382765531062126, 1.5414829659318636, 1.544689378757515, 1.5478957915831666, 1.5511022044088176, 1.5543086172344691, 1.5575150300601202, 1.5607214428857716, 1.5639278557114231, 1.5671342685370742, 1.5703406813627256, 1.5735470941883767, 1.5767535070140282, 1.5799599198396796, 1.5831663326653307, 1.5863727454909822, 1.5895791583166332, 1.5927855711422847, 1.5959919839679362, 1.5991983967935872, 1.6024048096192387, 1.6056112224448897, 1.6088176352705412, 1.6120240480961927, 1.6152304609218437, 1.6184368737474952, 1.6216432865731463, 1.6248496993987978, 1.6280561122244492, 1.6312625250501003, 1.6344689378757513, 1.6376753507014028, 1.6408817635270543, 1.6440881763527058, 1.6472945891783568, 1.6505010020040078, 1.6537074148296593, 1.6569138276553108, 1.6601202404809623, 1.6633266533066133, 1.6665330661322644, 1.6697394789579159, 1.6729458917835673, 1.6761523046092184, 1.6793587174348699, 1.682565130260521, 1.6857715430861724, 1.6889779559118239, 1.692184368737475, 1.6953907815631264, 1.6985971943887774, 1.701803607214429, 1.7050100200400804, 1.7082164328657314, 1.711422845691383, 1.714629258517034, 1.7178356713426854, 1.721042084168337, 1.724248496993988, 1.7274549098196395, 1.7306613226452905, 1.733867735470942, 1.7370741482965935, 1.7402805611222445, 1.743486973947896, 1.746693386773547, 1.7498997995991985, 1.75310621242485, 1.756312625250501, 1.7595190380761525, 1.7627254509018035, 1.765931863727455, 1.7691382765531065, 1.7723446893787576, 1.775551102204409, 1.77875751503006, 1.7819639278557116, 1.785170340681363, 1.788376753507014, 1.7915831663326656, 1.7947895791583166, 1.797995991983968, 1.8012024048096196, 1.8044088176352706, 1.807615230460922, 1.8108216432865731, 1.8140280561122246, 1.8172344689378757, 1.8204408817635271, 1.8236472945891786, 1.8268537074148297, 1.8300601202404811, 1.8332665330661322, 1.8364729458917837, 1.8396793587174352, 1.8428857715430862, 1.8460921843687377, 1.8492985971943887, 1.8525050100200402, 1.8557114228456917, 1.8589178356713427, 1.8621242484969942, 1.8653306613226452, 1.8685370741482967, 1.8717434869739482, 1.8749498997995993, 1.8781563126252507, 1.8813627254509018, 1.8845691382765533, 1.8877755511022047, 1.8909819639278558, 1.8941883767535073, 1.8973947895791583, 1.9006012024048098, 1.9038076152304613, 1.9070140280561123, 1.9102204408817638, 1.9134268537074148, 1.9166332665330663, 1.9198396793587178, 1.9230460921843688, 1.9262525050100203, 1.9294589178356714, 1.9326653306613228, 1.9358717434869743, 1.9390781563126254, 1.9422845691382764, 1.945490981963928, 1.9486973947895794, 1.9519038076152309, 1.955110220440882, 1.958316633266533, 1.9615230460921844, 1.964729458917836, 1.9679358717434874, 1.9711422845691384, 1.9743486973947895, 1.977555110220441, 1.9807615230460924, 1.9839679358717435, 1.987174348697395, 1.990380761523046, 1.9935871743486975, 1.996793587174349, 2.0])\n",
       "              .range([&#x27;#440154ff&#x27;, &#x27;#440155ff&#x27;, &#x27;#440256ff&#x27;, &#x27;#440356ff&#x27;, &#x27;#450457ff&#x27;, &#x27;#450458ff&#x27;, &#x27;#450559ff&#x27;, &#x27;#450659ff&#x27;, &#x27;#46075aff&#x27;, &#x27;#46075bff&#x27;, &#x27;#46085cff&#x27;, &#x27;#46095cff&#x27;, &#x27;#460a5dff&#x27;, &#x27;#460a5eff&#x27;, &#x27;#460b5eff&#x27;, &#x27;#460c5fff&#x27;, &#x27;#470d60ff&#x27;, &#x27;#470d61ff&#x27;, &#x27;#470e61ff&#x27;, &#x27;#470f62ff&#x27;, &#x27;#471063ff&#x27;, &#x27;#471064ff&#x27;, &#x27;#471164ff&#x27;, &#x27;#471265ff&#x27;, &#x27;#471365ff&#x27;, &#x27;#481366ff&#x27;, &#x27;#481467ff&#x27;, &#x27;#481568ff&#x27;, &#x27;#481668ff&#x27;, &#x27;#481669ff&#x27;, &#x27;#481769ff&#x27;, &#x27;#48176aff&#x27;, &#x27;#48186bff&#x27;, &#x27;#48196cff&#x27;, &#x27;#481a6cff&#x27;, &#x27;#481a6dff&#x27;, &#x27;#481b6dff&#x27;, &#x27;#481c6eff&#x27;, &#x27;#481c6eff&#x27;, &#x27;#481d6fff&#x27;, &#x27;#481d6fff&#x27;, &#x27;#481f70ff&#x27;, &#x27;#481f70ff&#x27;, &#x27;#482071ff&#x27;, &#x27;#482072ff&#x27;, &#x27;#482173ff&#x27;, &#x27;#482273ff&#x27;, &#x27;#482374ff&#x27;, &#x27;#482374ff&#x27;, &#x27;#482475ff&#x27;, &#x27;#482476ff&#x27;, &#x27;#482576ff&#x27;, &#x27;#482577ff&#x27;, &#x27;#482677ff&#x27;, &#x27;#482778ff&#x27;, &#x27;#482878ff&#x27;, &#x27;#482879ff&#x27;, &#x27;#482979ff&#x27;, &#x27;#47297aff&#x27;, &#x27;#472a7aff&#x27;, &#x27;#472b7aff&#x27;, &#x27;#472c7aff&#x27;, &#x27;#472c7bff&#x27;, &#x27;#472d7bff&#x27;, &#x27;#472d7cff&#x27;, &#x27;#472e7cff&#x27;, &#x27;#472e7dff&#x27;, &#x27;#472f7dff&#x27;, &#x27;#462f7eff&#x27;, &#x27;#46307eff&#x27;, &#x27;#46317eff&#x27;, &#x27;#46327eff&#x27;, &#x27;#46327fff&#x27;, &#x27;#46337fff&#x27;, &#x27;#463480ff&#x27;, &#x27;#453480ff&#x27;, &#x27;#453581ff&#x27;, &#x27;#453581ff&#x27;, &#x27;#453681ff&#x27;, &#x27;#453781ff&#x27;, &#x27;#453882ff&#x27;, &#x27;#443882ff&#x27;, &#x27;#443983ff&#x27;, &#x27;#443983ff&#x27;, &#x27;#443a83ff&#x27;, &#x27;#443a83ff&#x27;, &#x27;#443b84ff&#x27;, &#x27;#433c84ff&#x27;, &#x27;#433d84ff&#x27;, &#x27;#433d85ff&#x27;, &#x27;#433e85ff&#x27;, &#x27;#423e85ff&#x27;, &#x27;#423f85ff&#x27;, &#x27;#423f86ff&#x27;, &#x27;#424086ff&#x27;, &#x27;#424086ff&#x27;, &#x27;#424186ff&#x27;, &#x27;#414187ff&#x27;, &#x27;#414287ff&#x27;, &#x27;#414387ff&#x27;, &#x27;#414487ff&#x27;, &#x27;#404488ff&#x27;, &#x27;#404588ff&#x27;, &#x27;#404588ff&#x27;, &#x27;#404688ff&#x27;, &#x27;#3f4688ff&#x27;, &#x27;#3f4788ff&#x27;, &#x27;#3f4789ff&#x27;, &#x27;#3f4889ff&#x27;, &#x27;#3e4889ff&#x27;, &#x27;#3e4989ff&#x27;, &#x27;#3e4a89ff&#x27;, &#x27;#3e4a89ff&#x27;, &#x27;#3e4b8aff&#x27;, &#x27;#3d4c8aff&#x27;, &#x27;#3d4d8aff&#x27;, &#x27;#3d4d8aff&#x27;, &#x27;#3d4e8aff&#x27;, &#x27;#3c4e8aff&#x27;, &#x27;#3c4f8aff&#x27;, &#x27;#3c4f8aff&#x27;, &#x27;#3c508bff&#x27;, &#x27;#3b508bff&#x27;, &#x27;#3b518bff&#x27;, &#x27;#3b518bff&#x27;, &#x27;#3b528bff&#x27;, &#x27;#3a528bff&#x27;, &#x27;#3a538bff&#x27;, &#x27;#3a538bff&#x27;, &#x27;#3a548cff&#x27;, &#x27;#39548cff&#x27;, &#x27;#39558cff&#x27;, &#x27;#39558cff&#x27;, &#x27;#39568cff&#x27;, &#x27;#38578cff&#x27;, &#x27;#38588cff&#x27;, &#x27;#38588cff&#x27;, &#x27;#38598cff&#x27;, &#x27;#37598cff&#x27;, &#x27;#375a8cff&#x27;, &#x27;#375a8dff&#x27;, &#x27;#375b8dff&#x27;, &#x27;#365b8dff&#x27;, &#x27;#365c8dff&#x27;, &#x27;#365c8dff&#x27;, &#x27;#365d8dff&#x27;, &#x27;#355d8dff&#x27;, &#x27;#355e8dff&#x27;, &#x27;#355f8dff&#x27;, &#x27;#355f8dff&#x27;, &#x27;#34608dff&#x27;, &#x27;#34608dff&#x27;, &#x27;#34618dff&#x27;, &#x27;#34618dff&#x27;, &#x27;#33628dff&#x27;, &#x27;#33628dff&#x27;, &#x27;#33638dff&#x27;, &#x27;#32638dff&#x27;, &#x27;#32648eff&#x27;, &#x27;#32648eff&#x27;, &#x27;#32658eff&#x27;, &#x27;#31658eff&#x27;, &#x27;#31668eff&#x27;, &#x27;#31668eff&#x27;, &#x27;#31678eff&#x27;, &#x27;#31678eff&#x27;, &#x27;#31688eff&#x27;, &#x27;#30688eff&#x27;, &#x27;#30698eff&#x27;, &#x27;#30698eff&#x27;, &#x27;#306a8eff&#x27;, &#x27;#2f6a8eff&#x27;, &#x27;#2f6b8eff&#x27;, &#x27;#2f6b8eff&#x27;, &#x27;#2f6c8eff&#x27;, &#x27;#2e6c8eff&#x27;, &#x27;#2e6d8eff&#x27;, &#x27;#2e6d8eff&#x27;, &#x27;#2e6e8eff&#x27;, &#x27;#2e6e8eff&#x27;, &#x27;#2e6f8eff&#x27;, &#x27;#2d6f8eff&#x27;, &#x27;#2d708eff&#x27;, &#x27;#2d708eff&#x27;, &#x27;#2d718eff&#x27;, &#x27;#2c718eff&#x27;, &#x27;#2c718eff&#x27;, &#x27;#2c728eff&#x27;, &#x27;#2c728eff&#x27;, &#x27;#2c738eff&#x27;, &#x27;#2c738eff&#x27;, &#x27;#2b748eff&#x27;, &#x27;#2b748eff&#x27;, &#x27;#2b758eff&#x27;, &#x27;#2b758eff&#x27;, &#x27;#2a768eff&#x27;, &#x27;#2a768eff&#x27;, &#x27;#2a778eff&#x27;, &#x27;#2a778eff&#x27;, &#x27;#2a788eff&#x27;, &#x27;#29788eff&#x27;, &#x27;#29798eff&#x27;, &#x27;#29798eff&#x27;, &#x27;#297a8eff&#x27;, &#x27;#297a8eff&#x27;, &#x27;#297b8eff&#x27;, &#x27;#287b8eff&#x27;, &#x27;#287c8eff&#x27;, &#x27;#287c8eff&#x27;, &#x27;#287d8eff&#x27;, &#x27;#277d8eff&#x27;, &#x27;#277e8eff&#x27;, &#x27;#277e8eff&#x27;, &#x27;#277f8eff&#x27;, &#x27;#277f8eff&#x27;, &#x27;#27808eff&#x27;, &#x27;#26808eff&#x27;, &#x27;#26818eff&#x27;, &#x27;#26818eff&#x27;, &#x27;#26828eff&#x27;, &#x27;#26828eff&#x27;, &#x27;#26828eff&#x27;, &#x27;#25828eff&#x27;, &#x27;#25838eff&#x27;, &#x27;#25838eff&#x27;, &#x27;#25848eff&#x27;, &#x27;#25858eff&#x27;, &#x27;#25858eff&#x27;, &#x27;#24868eff&#x27;, &#x27;#24868eff&#x27;, &#x27;#24878eff&#x27;, &#x27;#24878eff&#x27;, &#x27;#23888eff&#x27;, &#x27;#23888eff&#x27;, &#x27;#23898eff&#x27;, &#x27;#23898eff&#x27;, &#x27;#238a8dff&#x27;, &#x27;#238a8dff&#x27;, &#x27;#228b8dff&#x27;, &#x27;#228b8dff&#x27;, &#x27;#228c8dff&#x27;, &#x27;#228c8dff&#x27;, &#x27;#228d8dff&#x27;, &#x27;#218d8dff&#x27;, &#x27;#218e8dff&#x27;, &#x27;#218e8dff&#x27;, &#x27;#218f8dff&#x27;, &#x27;#218f8dff&#x27;, &#x27;#21908dff&#x27;, &#x27;#21908dff&#x27;, &#x27;#21918cff&#x27;, &#x27;#20918cff&#x27;, &#x27;#20928cff&#x27;, &#x27;#20928cff&#x27;, &#x27;#20928cff&#x27;, &#x27;#20928cff&#x27;, &#x27;#20938cff&#x27;, &#x27;#1f938cff&#x27;, &#x27;#1f948cff&#x27;, &#x27;#1f948cff&#x27;, &#x27;#1f958bff&#x27;, &#x27;#1f958bff&#x27;, &#x27;#1f968bff&#x27;, &#x27;#1f968bff&#x27;, &#x27;#1f978bff&#x27;, &#x27;#1f988bff&#x27;, &#x27;#1f988bff&#x27;, &#x27;#1f998bff&#x27;, &#x27;#1f998aff&#x27;, &#x27;#1f9a8aff&#x27;, &#x27;#1f9a8aff&#x27;, &#x27;#1e9b8aff&#x27;, &#x27;#1e9b8aff&#x27;, &#x27;#1e9c8aff&#x27;, &#x27;#1e9c89ff&#x27;, &#x27;#1e9d89ff&#x27;, &#x27;#1e9d89ff&#x27;, &#x27;#1e9e89ff&#x27;, &#x27;#1f9e89ff&#x27;, &#x27;#1f9f88ff&#x27;, &#x27;#1f9f88ff&#x27;, &#x27;#1fa088ff&#x27;, &#x27;#1fa088ff&#x27;, &#x27;#1fa188ff&#x27;, &#x27;#1fa188ff&#x27;, &#x27;#1fa187ff&#x27;, &#x27;#1fa187ff&#x27;, &#x27;#1fa287ff&#x27;, &#x27;#1fa287ff&#x27;, &#x27;#1fa386ff&#x27;, &#x27;#20a386ff&#x27;, &#x27;#20a486ff&#x27;, &#x27;#20a486ff&#x27;, &#x27;#20a585ff&#x27;, &#x27;#21a585ff&#x27;, &#x27;#21a685ff&#x27;, &#x27;#21a685ff&#x27;, &#x27;#21a785ff&#x27;, &#x27;#22a785ff&#x27;, &#x27;#22a884ff&#x27;, &#x27;#22a884ff&#x27;, &#x27;#22a983ff&#x27;, &#x27;#23a983ff&#x27;, &#x27;#23aa83ff&#x27;, &#x27;#24ab83ff&#x27;, &#x27;#25ab82ff&#x27;, &#x27;#25ac82ff&#x27;, &#x27;#25ac82ff&#x27;, &#x27;#25ad82ff&#x27;, &#x27;#26ad81ff&#x27;, &#x27;#26ad81ff&#x27;, &#x27;#27ad81ff&#x27;, &#x27;#27ae81ff&#x27;, &#x27;#28ae80ff&#x27;, &#x27;#28af80ff&#x27;, &#x27;#29af7fff&#x27;, &#x27;#29b07fff&#x27;, &#x27;#2ab07fff&#x27;, &#x27;#2bb17eff&#x27;, &#x27;#2cb17eff&#x27;, &#x27;#2cb27dff&#x27;, &#x27;#2db27dff&#x27;, &#x27;#2db37cff&#x27;, &#x27;#2eb37cff&#x27;, &#x27;#2eb47cff&#x27;, &#x27;#2fb47cff&#x27;, &#x27;#30b57bff&#x27;, &#x27;#31b57bff&#x27;, &#x27;#31b67aff&#x27;, &#x27;#32b67aff&#x27;, &#x27;#33b679ff&#x27;, &#x27;#34b679ff&#x27;, &#x27;#34b779ff&#x27;, &#x27;#35b779ff&#x27;, &#x27;#36b878ff&#x27;, &#x27;#37b878ff&#x27;, &#x27;#37b977ff&#x27;, &#x27;#38b977ff&#x27;, &#x27;#39ba76ff&#x27;, &#x27;#3aba76ff&#x27;, &#x27;#3abb75ff&#x27;, &#x27;#3bbb75ff&#x27;, &#x27;#3cbc74ff&#x27;, &#x27;#3dbc74ff&#x27;, &#x27;#3ebc73ff&#x27;, &#x27;#3fbd73ff&#x27;, &#x27;#40bd72ff&#x27;, &#x27;#40be72ff&#x27;, &#x27;#41be71ff&#x27;, &#x27;#42bf71ff&#x27;, &#x27;#43bf70ff&#x27;, &#x27;#45c070ff&#x27;, &#x27;#46c06fff&#x27;, &#x27;#47c16fff&#x27;, &#x27;#48c16eff&#x27;, &#x27;#49c16eff&#x27;, &#x27;#4ac16dff&#x27;, &#x27;#4bc26cff&#x27;, &#x27;#4cc26cff&#x27;, &#x27;#4dc36bff&#x27;, &#x27;#4ec36bff&#x27;, &#x27;#4fc46aff&#x27;, &#x27;#50c46aff&#x27;, &#x27;#51c569ff&#x27;, &#x27;#52c569ff&#x27;, &#x27;#53c568ff&#x27;, &#x27;#54c568ff&#x27;, &#x27;#55c667ff&#x27;, &#x27;#56c667ff&#x27;, &#x27;#57c766ff&#x27;, &#x27;#58c765ff&#x27;, &#x27;#59c864ff&#x27;, &#x27;#5ac864ff&#x27;, &#x27;#5bc863ff&#x27;, &#x27;#5cc863ff&#x27;, &#x27;#5dc962ff&#x27;, &#x27;#5ec962ff&#x27;, &#x27;#5fca61ff&#x27;, &#x27;#60ca60ff&#x27;, &#x27;#62cb5fff&#x27;, &#x27;#63cb5fff&#x27;, &#x27;#64cb5eff&#x27;, &#x27;#65cc5dff&#x27;, &#x27;#66cc5cff&#x27;, &#x27;#67cd5cff&#x27;, &#x27;#68cd5bff&#x27;, &#x27;#6acd5bff&#x27;, &#x27;#6bcd5aff&#x27;, &#x27;#6cce59ff&#x27;, &#x27;#6ece58ff&#x27;, &#x27;#6fcf58ff&#x27;, &#x27;#70cf57ff&#x27;, &#x27;#71d057ff&#x27;, &#x27;#72d056ff&#x27;, &#x27;#74d055ff&#x27;, &#x27;#75d054ff&#x27;, &#x27;#76d153ff&#x27;, &#x27;#77d153ff&#x27;, &#x27;#78d152ff&#x27;, &#x27;#7ad151ff&#x27;, &#x27;#7bd250ff&#x27;, &#x27;#7cd250ff&#x27;, &#x27;#7dd34fff&#x27;, &#x27;#7fd34eff&#x27;, &#x27;#80d34dff&#x27;, &#x27;#81d34dff&#x27;, &#x27;#82d44cff&#x27;, &#x27;#84d44bff&#x27;, &#x27;#85d54aff&#x27;, &#x27;#86d549ff&#x27;, &#x27;#88d548ff&#x27;, &#x27;#89d548ff&#x27;, &#x27;#8ad647ff&#x27;, &#x27;#8bd646ff&#x27;, &#x27;#8dd645ff&#x27;, &#x27;#8ed645ff&#x27;, &#x27;#8fd744ff&#x27;, &#x27;#90d743ff&#x27;, &#x27;#92d742ff&#x27;, &#x27;#93d741ff&#x27;, &#x27;#94d840ff&#x27;, &#x27;#96d83fff&#x27;, &#x27;#97d83eff&#x27;, &#x27;#99d93dff&#x27;, &#x27;#9ad93cff&#x27;, &#x27;#9bd93cff&#x27;, &#x27;#9dd93bff&#x27;, &#x27;#9eda3aff&#x27;, &#x27;#9fda39ff&#x27;, &#x27;#a1da38ff&#x27;, &#x27;#a2da37ff&#x27;, &#x27;#a3db36ff&#x27;, &#x27;#a4db36ff&#x27;, &#x27;#a6db35ff&#x27;, &#x27;#a8db34ff&#x27;, &#x27;#a9dc33ff&#x27;, &#x27;#aadc32ff&#x27;, &#x27;#abdc31ff&#x27;, &#x27;#addc30ff&#x27;, &#x27;#aedd2fff&#x27;, &#x27;#b0dd2fff&#x27;, &#x27;#b1dd2eff&#x27;, &#x27;#b2dd2dff&#x27;, &#x27;#b3de2cff&#x27;, &#x27;#b5de2bff&#x27;, &#x27;#b6de2aff&#x27;, &#x27;#b8de29ff&#x27;, &#x27;#b9de28ff&#x27;, &#x27;#bade28ff&#x27;, &#x27;#bcdf27ff&#x27;, &#x27;#bddf26ff&#x27;, &#x27;#bfdf25ff&#x27;, &#x27;#c0df25ff&#x27;, &#x27;#c1df24ff&#x27;, &#x27;#c2df23ff&#x27;, &#x27;#c4e022ff&#x27;, &#x27;#c5e021ff&#x27;, &#x27;#c7e020ff&#x27;, &#x27;#c8e020ff&#x27;, &#x27;#c9e11fff&#x27;, &#x27;#cbe11eff&#x27;, &#x27;#cce11dff&#x27;, &#x27;#cee11dff&#x27;, &#x27;#cfe11cff&#x27;, &#x27;#d1e11bff&#x27;, &#x27;#d2e21bff&#x27;, &#x27;#d3e21aff&#x27;, &#x27;#d4e21aff&#x27;, &#x27;#d6e219ff&#x27;, &#x27;#d7e219ff&#x27;, &#x27;#d9e319ff&#x27;, &#x27;#dae319ff&#x27;, &#x27;#dbe318ff&#x27;, &#x27;#dde318ff&#x27;, &#x27;#dee318ff&#x27;, &#x27;#dfe318ff&#x27;, &#x27;#e0e418ff&#x27;, &#x27;#e2e418ff&#x27;, &#x27;#e3e418ff&#x27;, &#x27;#e5e418ff&#x27;, &#x27;#e6e419ff&#x27;, &#x27;#e7e419ff&#x27;, &#x27;#e8e519ff&#x27;, &#x27;#eae519ff&#x27;, &#x27;#ebe51aff&#x27;, &#x27;#ece51aff&#x27;, &#x27;#ede51bff&#x27;, &#x27;#efe51bff&#x27;, &#x27;#f0e51cff&#x27;, &#x27;#f1e51dff&#x27;, &#x27;#f3e61dff&#x27;, &#x27;#f4e61eff&#x27;, &#x27;#f5e61eff&#x27;, &#x27;#f6e61fff&#x27;, &#x27;#f7e620ff&#x27;, &#x27;#f8e621ff&#x27;, &#x27;#fae722ff&#x27;, &#x27;#fbe723ff&#x27;, &#x27;#fce724ff&#x27;, &#x27;#fde725ff&#x27;]);\n",
       "    \n",
       "\n",
       "    color_map_fb16af7288d0c0f7cf8bbee16cb3bf9e.x = d3.scale.linear()\n",
       "              .domain([0.4, 2.0])\n",
       "              .range([0, 450 - 50]);\n",
       "\n",
       "    color_map_fb16af7288d0c0f7cf8bbee16cb3bf9e.legend = L.control({position: &#x27;topright&#x27;});\n",
       "    color_map_fb16af7288d0c0f7cf8bbee16cb3bf9e.legend.onAdd = function (map) {var div = L.DomUtil.create(&#x27;div&#x27;, &#x27;legend&#x27;); return div};\n",
       "    color_map_fb16af7288d0c0f7cf8bbee16cb3bf9e.legend.addTo(map_2339805e8b820b8fa707b70df12fa336);\n",
       "\n",
       "    color_map_fb16af7288d0c0f7cf8bbee16cb3bf9e.xAxis = d3.svg.axis()\n",
       "        .scale(color_map_fb16af7288d0c0f7cf8bbee16cb3bf9e.x)\n",
       "        .orient(&quot;top&quot;)\n",
       "        .tickSize(1)\n",
       "        .tickValues([0.4, &#x27;&#x27;, &#x27;&#x27;, &#x27;&#x27;, &#x27;&#x27;, &#x27;&#x27;, &#x27;&#x27;, &#x27;&#x27;, &#x27;&#x27;, &#x27;&#x27;, &#x27;&#x27;, &#x27;&#x27;, &#x27;&#x27;, &#x27;&#x27;, &#x27;&#x27;, &#x27;&#x27;, &#x27;&#x27;, &#x27;&#x27;, &#x27;&#x27;, &#x27;&#x27;, &#x27;&#x27;, &#x27;&#x27;, &#x27;&#x27;, &#x27;&#x27;, &#x27;&#x27;, &#x27;&#x27;, 0.5631372549019609, &#x27;&#x27;, &#x27;&#x27;, &#x27;&#x27;, &#x27;&#x27;, &#x27;&#x27;, &#x27;&#x27;, &#x27;&#x27;, &#x27;&#x27;, &#x27;&#x27;, &#x27;&#x27;, &#x27;&#x27;, &#x27;&#x27;, &#x27;&#x27;, &#x27;&#x27;, &#x27;&#x27;, &#x27;&#x27;, &#x27;&#x27;, &#x27;&#x27;, &#x27;&#x27;, &#x27;&#x27;, &#x27;&#x27;, &#x27;&#x27;, &#x27;&#x27;, &#x27;&#x27;, &#x27;&#x27;, 0.7262745098039216, &#x27;&#x27;, &#x27;&#x27;, &#x27;&#x27;, &#x27;&#x27;, &#x27;&#x27;, &#x27;&#x27;, &#x27;&#x27;, &#x27;&#x27;, &#x27;&#x27;, &#x27;&#x27;, &#x27;&#x27;, &#x27;&#x27;, &#x27;&#x27;, &#x27;&#x27;, &#x27;&#x27;, &#x27;&#x27;, &#x27;&#x27;, &#x27;&#x27;, &#x27;&#x27;, &#x27;&#x27;, &#x27;&#x27;, &#x27;&#x27;, &#x27;&#x27;, &#x27;&#x27;, &#x27;&#x27;, 0.8894117647058823, &#x27;&#x27;, &#x27;&#x27;, &#x27;&#x27;, &#x27;&#x27;, &#x27;&#x27;, &#x27;&#x27;, &#x27;&#x27;, &#x27;&#x27;, &#x27;&#x27;, &#x27;&#x27;, &#x27;&#x27;, &#x27;&#x27;, &#x27;&#x27;, &#x27;&#x27;, &#x27;&#x27;, &#x27;&#x27;, &#x27;&#x27;, &#x27;&#x27;, &#x27;&#x27;, &#x27;&#x27;, &#x27;&#x27;, &#x27;&#x27;, &#x27;&#x27;, &#x27;&#x27;, &#x27;&#x27;, 1.0525490196078433, &#x27;&#x27;, &#x27;&#x27;, &#x27;&#x27;, &#x27;&#x27;, &#x27;&#x27;, &#x27;&#x27;, &#x27;&#x27;, &#x27;&#x27;, &#x27;&#x27;, &#x27;&#x27;, &#x27;&#x27;, &#x27;&#x27;, &#x27;&#x27;, &#x27;&#x27;, &#x27;&#x27;, &#x27;&#x27;, &#x27;&#x27;, &#x27;&#x27;, &#x27;&#x27;, &#x27;&#x27;, &#x27;&#x27;, &#x27;&#x27;, &#x27;&#x27;, &#x27;&#x27;, &#x27;&#x27;, 1.215686274509804, &#x27;&#x27;, &#x27;&#x27;, &#x27;&#x27;, &#x27;&#x27;, &#x27;&#x27;, &#x27;&#x27;, &#x27;&#x27;, &#x27;&#x27;, &#x27;&#x27;, &#x27;&#x27;, &#x27;&#x27;, &#x27;&#x27;, &#x27;&#x27;, &#x27;&#x27;, &#x27;&#x27;, &#x27;&#x27;, &#x27;&#x27;, &#x27;&#x27;, &#x27;&#x27;, &#x27;&#x27;, &#x27;&#x27;, &#x27;&#x27;, &#x27;&#x27;, &#x27;&#x27;, &#x27;&#x27;, 1.3788235294117648, &#x27;&#x27;, &#x27;&#x27;, &#x27;&#x27;, &#x27;&#x27;, &#x27;&#x27;, &#x27;&#x27;, &#x27;&#x27;, &#x27;&#x27;, &#x27;&#x27;, &#x27;&#x27;, &#x27;&#x27;, &#x27;&#x27;, &#x27;&#x27;, &#x27;&#x27;, &#x27;&#x27;, &#x27;&#x27;, &#x27;&#x27;, &#x27;&#x27;, &#x27;&#x27;, &#x27;&#x27;, &#x27;&#x27;, &#x27;&#x27;, &#x27;&#x27;, &#x27;&#x27;, &#x27;&#x27;, 1.5419607843137255, &#x27;&#x27;, &#x27;&#x27;, &#x27;&#x27;, &#x27;&#x27;, &#x27;&#x27;, &#x27;&#x27;, &#x27;&#x27;, &#x27;&#x27;, &#x27;&#x27;, &#x27;&#x27;, &#x27;&#x27;, &#x27;&#x27;, &#x27;&#x27;, &#x27;&#x27;, &#x27;&#x27;, &#x27;&#x27;, &#x27;&#x27;, &#x27;&#x27;, &#x27;&#x27;, &#x27;&#x27;, &#x27;&#x27;, &#x27;&#x27;, &#x27;&#x27;, &#x27;&#x27;, &#x27;&#x27;, 1.7050980392156863, &#x27;&#x27;, &#x27;&#x27;, &#x27;&#x27;, &#x27;&#x27;, &#x27;&#x27;, &#x27;&#x27;, &#x27;&#x27;, &#x27;&#x27;, &#x27;&#x27;, &#x27;&#x27;, &#x27;&#x27;, &#x27;&#x27;, &#x27;&#x27;, &#x27;&#x27;, &#x27;&#x27;, &#x27;&#x27;, &#x27;&#x27;, &#x27;&#x27;, &#x27;&#x27;, &#x27;&#x27;, &#x27;&#x27;, &#x27;&#x27;, &#x27;&#x27;, &#x27;&#x27;, &#x27;&#x27;, 1.868235294117647, &#x27;&#x27;, &#x27;&#x27;, &#x27;&#x27;, &#x27;&#x27;, &#x27;&#x27;, &#x27;&#x27;, &#x27;&#x27;, &#x27;&#x27;, &#x27;&#x27;, &#x27;&#x27;, &#x27;&#x27;, &#x27;&#x27;, &#x27;&#x27;, &#x27;&#x27;, &#x27;&#x27;, &#x27;&#x27;, &#x27;&#x27;, &#x27;&#x27;, &#x27;&#x27;, &#x27;&#x27;, &#x27;&#x27;, &#x27;&#x27;, &#x27;&#x27;, &#x27;&#x27;, &#x27;&#x27;]);\n",
       "\n",
       "    color_map_fb16af7288d0c0f7cf8bbee16cb3bf9e.svg = d3.select(&quot;.legend.leaflet-control&quot;).append(&quot;svg&quot;)\n",
       "        .attr(&quot;id&quot;, &#x27;legend&#x27;)\n",
       "        .attr(&quot;width&quot;, 450)\n",
       "        .attr(&quot;height&quot;, 40);\n",
       "\n",
       "    color_map_fb16af7288d0c0f7cf8bbee16cb3bf9e.g = color_map_fb16af7288d0c0f7cf8bbee16cb3bf9e.svg.append(&quot;g&quot;)\n",
       "        .attr(&quot;class&quot;, &quot;key&quot;)\n",
       "        .attr(&quot;transform&quot;, &quot;translate(25,16)&quot;);\n",
       "\n",
       "    color_map_fb16af7288d0c0f7cf8bbee16cb3bf9e.g.selectAll(&quot;rect&quot;)\n",
       "        .data(color_map_fb16af7288d0c0f7cf8bbee16cb3bf9e.color.range().map(function(d, i) {\n",
       "          return {\n",
       "            x0: i ? color_map_fb16af7288d0c0f7cf8bbee16cb3bf9e.x(color_map_fb16af7288d0c0f7cf8bbee16cb3bf9e.color.domain()[i - 1]) : color_map_fb16af7288d0c0f7cf8bbee16cb3bf9e.x.range()[0],\n",
       "            x1: i &lt; color_map_fb16af7288d0c0f7cf8bbee16cb3bf9e.color.domain().length ? color_map_fb16af7288d0c0f7cf8bbee16cb3bf9e.x(color_map_fb16af7288d0c0f7cf8bbee16cb3bf9e.color.domain()[i]) : color_map_fb16af7288d0c0f7cf8bbee16cb3bf9e.x.range()[1],\n",
       "            z: d\n",
       "          };\n",
       "        }))\n",
       "      .enter().append(&quot;rect&quot;)\n",
       "        .attr(&quot;height&quot;, 40 - 30)\n",
       "        .attr(&quot;x&quot;, function(d) { return d.x0; })\n",
       "        .attr(&quot;width&quot;, function(d) { return d.x1 - d.x0; })\n",
       "        .style(&quot;fill&quot;, function(d) { return d.z; });\n",
       "\n",
       "    color_map_fb16af7288d0c0f7cf8bbee16cb3bf9e.g.call(color_map_fb16af7288d0c0f7cf8bbee16cb3bf9e.xAxis).append(&quot;text&quot;)\n",
       "        .attr(&quot;class&quot;, &quot;caption&quot;)\n",
       "        .attr(&quot;y&quot;, 21)\n",
       "        .text(&quot;temperature&quot;);\n",
       "&lt;/script&gt;\n",
       "&lt;/html&gt;\" style=\"position:absolute;width:100%;height:100%;left:0;top:0;border:none !important;\" allowfullscreen webkitallowfullscreen mozallowfullscreen></iframe></div></div>"
      ],
      "text/plain": [
       "<folium.folium.Map at 0x15724c895d0>"
      ]
     },
     "execution_count": 117,
     "metadata": {},
     "output_type": "execute_result"
    }
   ],
   "source": [
    "temp_gdf.explore(\"temperature\")"
   ]
  },
  {
   "cell_type": "markdown",
   "id": "79b191da-939f-44a5-a7c6-c9412994a550",
   "metadata": {},
   "source": [
    "# Kriging interpolation"
   ]
  },
  {
   "cell_type": "code",
   "execution_count": null,
   "id": "0fbe2772-359e-43a2-9dd3-530905ee77b4",
   "metadata": {},
   "outputs": [],
   "source": []
  }
 ],
 "metadata": {
  "kernelspec": {
   "display_name": "Python 3 (ipykernel)",
   "language": "python",
   "name": "python3"
  },
  "language_info": {
   "codemirror_mode": {
    "name": "ipython",
    "version": 3
   },
   "file_extension": ".py",
   "mimetype": "text/x-python",
   "name": "python",
   "nbconvert_exporter": "python",
   "pygments_lexer": "ipython3",
   "version": "3.11.4"
  }
 },
 "nbformat": 4,
 "nbformat_minor": 5
}
