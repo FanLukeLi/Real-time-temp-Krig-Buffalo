{
 "cells": [
  {
   "cell_type": "code",
   "execution_count": 2,
   "id": "ed109ad8-322f-4862-8349-46ee2a0698ff",
   "metadata": {},
   "outputs": [],
   "source": [
    "import geopandas as gpd\n",
    "import pandas as pd\n",
    "from shapely import Polygon"
   ]
  },
  {
   "cell_type": "code",
   "execution_count": 4,
   "id": "269e7634-443f-49a3-8ef8-e20b2303b528",
   "metadata": {},
   "outputs": [
    {
     "data": {
      "text/plain": [
       "Index(['STATEFP20', 'COUNTYFP20', 'TRACTCE20', 'GEOID20', 'NAME20',\n",
       "       'NAMELSAD20', 'MTFCC20', 'FUNCSTAT20', 'ALAND20', 'AWATER20',\n",
       "       'INTPTLAT20', 'INTPTLON20', 'the_geom', 'OBJECTID'],\n",
       "      dtype='object')"
      ]
     },
     "execution_count": 4,
     "metadata": {},
     "output_type": "execute_result"
    }
   ],
   "source": [
    "df = pd.read_csv('./data/Census_Tracts_2020_20250325.csv')\n",
    "df.columns"
   ]
  },
  {
   "cell_type": "code",
   "execution_count": 10,
   "id": "85ffbb1d-bbfc-4faf-84f0-392039f65a72",
   "metadata": {},
   "outputs": [
    {
     "data": {
      "text/plain": [
       "Index(['STATEFP20', 'COUNTYFP20', 'TRACTCE20', 'GEOID20', 'NAME20',\n",
       "       'NAMELSAD20', 'MTFCC20', 'FUNCSTAT20', 'ALAND20', 'AWATER20',\n",
       "       'INTPTLAT20', 'INTPTLON20', 'geometry', 'OBJECTID'],\n",
       "      dtype='object')"
      ]
     },
     "execution_count": 10,
     "metadata": {},
     "output_type": "execute_result"
    }
   ],
   "source": [
    "df.rename(columns={'the_geom': 'geometry'}, inplace=True)\n",
    "df.columns"
   ]
  },
  {
   "cell_type": "code",
   "execution_count": 13,
   "id": "30cb4c5c-c471-47c8-bd86-7b320b51b474",
   "metadata": {},
   "outputs": [
    {
     "data": {
      "text/plain": [
       "Index(['STATEFP20', 'COUNTYFP20', 'TRACTCE20', 'GEOID20', 'NAME20',\n",
       "       'NAMELSAD20', 'MTFCC20', 'FUNCSTAT20', 'ALAND20', 'AWATER20',\n",
       "       'INTPTLAT20', 'INTPTLON20', 'geometry', 'OBJECTID'],\n",
       "      dtype='object')"
      ]
     },
     "execution_count": 13,
     "metadata": {},
     "output_type": "execute_result"
    }
   ],
   "source": [
    "gdf = gpd.GeoDataFrame(df, geometry=gpd.GeoSeries.from_wkt(df['geometry']))\n",
    "gdf.columns"
   ]
  },
  {
   "cell_type": "code",
   "execution_count": 14,
   "id": "0ff94531-560b-409a-abaf-ecdec15881f0",
   "metadata": {},
   "outputs": [
    {
     "data": {
      "text/plain": [
       "<geopandas.array.GeometryDtype at 0x22c22918dd0>"
      ]
     },
     "execution_count": 14,
     "metadata": {},
     "output_type": "execute_result"
    }
   ],
   "source": [
    "gdf.geometry.dtype"
   ]
  },
  {
   "cell_type": "code",
   "execution_count": 18,
   "id": "03c21ea3-65a5-4e76-ad1d-710b2f311527",
   "metadata": {},
   "outputs": [
    {
     "data": {
      "text/html": [
       "<div>\n",
       "<style scoped>\n",
       "    .dataframe tbody tr th:only-of-type {\n",
       "        vertical-align: middle;\n",
       "    }\n",
       "\n",
       "    .dataframe tbody tr th {\n",
       "        vertical-align: top;\n",
       "    }\n",
       "\n",
       "    .dataframe thead th {\n",
       "        text-align: right;\n",
       "    }\n",
       "</style>\n",
       "<table border=\"1\" class=\"dataframe\">\n",
       "  <thead>\n",
       "    <tr style=\"text-align: right;\">\n",
       "      <th></th>\n",
       "      <th>STATEFP20</th>\n",
       "      <th>COUNTYFP20</th>\n",
       "      <th>TRACTCE20</th>\n",
       "      <th>GEOID20</th>\n",
       "      <th>NAME20</th>\n",
       "      <th>NAMELSAD20</th>\n",
       "      <th>MTFCC20</th>\n",
       "      <th>FUNCSTAT20</th>\n",
       "      <th>ALAND20</th>\n",
       "      <th>AWATER20</th>\n",
       "      <th>INTPTLAT20</th>\n",
       "      <th>INTPTLON20</th>\n",
       "      <th>geometry</th>\n",
       "      <th>OBJECTID</th>\n",
       "    </tr>\n",
       "  </thead>\n",
       "  <tbody>\n",
       "    <tr>\n",
       "      <th>0</th>\n",
       "      <td>36</td>\n",
       "      <td>29</td>\n",
       "      <td>4003</td>\n",
       "      <td>36029004003</td>\n",
       "      <td>40.03</td>\n",
       "      <td>Census Tract</td>\n",
       "      <td>G5020</td>\n",
       "      <td>S</td>\n",
       "      <td>890,101</td>\n",
       "      <td>0</td>\n",
       "      <td>42.935423</td>\n",
       "      <td>-78.833882</td>\n",
       "      <td>MULTIPOLYGON (((-78.83927 42.93134, -78.83926 ...</td>\n",
       "      <td>37</td>\n",
       "    </tr>\n",
       "    <tr>\n",
       "      <th>1</th>\n",
       "      <td>36</td>\n",
       "      <td>29</td>\n",
       "      <td>900</td>\n",
       "      <td>36029000900</td>\n",
       "      <td>9.00</td>\n",
       "      <td>Census Tract</td>\n",
       "      <td>G5020</td>\n",
       "      <td>S</td>\n",
       "      <td>549,188</td>\n",
       "      <td>0</td>\n",
       "      <td>42.853907</td>\n",
       "      <td>-78.816522</td>\n",
       "      <td>MULTIPOLYGON (((-78.82362 42.85632, -78.82353 ...</td>\n",
       "      <td>7</td>\n",
       "    </tr>\n",
       "    <tr>\n",
       "      <th>2</th>\n",
       "      <td>36</td>\n",
       "      <td>29</td>\n",
       "      <td>3501</td>\n",
       "      <td>36029003501</td>\n",
       "      <td>35.01</td>\n",
       "      <td>Census Tract</td>\n",
       "      <td>G5020</td>\n",
       "      <td>S</td>\n",
       "      <td>680,915</td>\n",
       "      <td>0</td>\n",
       "      <td>42.908822</td>\n",
       "      <td>-78.829490</td>\n",
       "      <td>MULTIPOLYGON (((-78.83584 42.90379, -78.83584 ...</td>\n",
       "      <td>30</td>\n",
       "    </tr>\n",
       "    <tr>\n",
       "      <th>3</th>\n",
       "      <td>36</td>\n",
       "      <td>29</td>\n",
       "      <td>5500</td>\n",
       "      <td>36029005500</td>\n",
       "      <td>55.00</td>\n",
       "      <td>Census Tract</td>\n",
       "      <td>G5020</td>\n",
       "      <td>S</td>\n",
       "      <td>1,559,835</td>\n",
       "      <td>0</td>\n",
       "      <td>42.938881</td>\n",
       "      <td>-78.888941</td>\n",
       "      <td>MULTIPOLYGON (((-78.89882 42.93641, -78.89846 ...</td>\n",
       "      <td>56</td>\n",
       "    </tr>\n",
       "    <tr>\n",
       "      <th>4</th>\n",
       "      <td>36</td>\n",
       "      <td>29</td>\n",
       "      <td>4901</td>\n",
       "      <td>36029004901</td>\n",
       "      <td>49.01</td>\n",
       "      <td>Census Tract</td>\n",
       "      <td>G5020</td>\n",
       "      <td>S</td>\n",
       "      <td>258,659</td>\n",
       "      <td>0</td>\n",
       "      <td>42.945770</td>\n",
       "      <td>-78.860123</td>\n",
       "      <td>MULTIPOLYGON (((-78.86815 42.94463, -78.86798 ...</td>\n",
       "      <td>48</td>\n",
       "    </tr>\n",
       "    <tr>\n",
       "      <th>...</th>\n",
       "      <td>...</td>\n",
       "      <td>...</td>\n",
       "      <td>...</td>\n",
       "      <td>...</td>\n",
       "      <td>...</td>\n",
       "      <td>...</td>\n",
       "      <td>...</td>\n",
       "      <td>...</td>\n",
       "      <td>...</td>\n",
       "      <td>...</td>\n",
       "      <td>...</td>\n",
       "      <td>...</td>\n",
       "      <td>...</td>\n",
       "      <td>...</td>\n",
       "    </tr>\n",
       "    <tr>\n",
       "      <th>86</th>\n",
       "      <td>36</td>\n",
       "      <td>29</td>\n",
       "      <td>5700</td>\n",
       "      <td>36029005700</td>\n",
       "      <td>57.00</td>\n",
       "      <td>Census Tract</td>\n",
       "      <td>G5020</td>\n",
       "      <td>S</td>\n",
       "      <td>956,845</td>\n",
       "      <td>0</td>\n",
       "      <td>42.949723</td>\n",
       "      <td>-78.899251</td>\n",
       "      <td>MULTIPOLYGON (((-78.90760 42.94566, -78.90716 ...</td>\n",
       "      <td>58</td>\n",
       "    </tr>\n",
       "    <tr>\n",
       "      <th>87</th>\n",
       "      <td>36</td>\n",
       "      <td>29</td>\n",
       "      <td>5900</td>\n",
       "      <td>36029005900</td>\n",
       "      <td>59.00</td>\n",
       "      <td>Census Tract</td>\n",
       "      <td>G5020</td>\n",
       "      <td>S</td>\n",
       "      <td>1,217,883</td>\n",
       "      <td>297,447</td>\n",
       "      <td>42.937314</td>\n",
       "      <td>-78.903121</td>\n",
       "      <td>MULTIPOLYGON (((-78.91401 42.94249, -78.90919 ...</td>\n",
       "      <td>61</td>\n",
       "    </tr>\n",
       "    <tr>\n",
       "      <th>88</th>\n",
       "      <td>36</td>\n",
       "      <td>29</td>\n",
       "      <td>6601</td>\n",
       "      <td>36029006601</td>\n",
       "      <td>66.01</td>\n",
       "      <td>Census Tract</td>\n",
       "      <td>G5020</td>\n",
       "      <td>S</td>\n",
       "      <td>392,015</td>\n",
       "      <td>0</td>\n",
       "      <td>42.913465</td>\n",
       "      <td>-78.882280</td>\n",
       "      <td>MULTIPOLYGON (((-78.88817 42.91497, -78.88739 ...</td>\n",
       "      <td>66</td>\n",
       "    </tr>\n",
       "    <tr>\n",
       "      <th>89</th>\n",
       "      <td>36</td>\n",
       "      <td>29</td>\n",
       "      <td>2900</td>\n",
       "      <td>36029002900</td>\n",
       "      <td>29.00</td>\n",
       "      <td>Census Tract</td>\n",
       "      <td>G5020</td>\n",
       "      <td>S</td>\n",
       "      <td>777,409</td>\n",
       "      <td>0</td>\n",
       "      <td>42.906627</td>\n",
       "      <td>-78.819865</td>\n",
       "      <td>MULTIPOLYGON (((-78.82894 42.90656, -78.82830 ...</td>\n",
       "      <td>24</td>\n",
       "    </tr>\n",
       "    <tr>\n",
       "      <th>90</th>\n",
       "      <td>36</td>\n",
       "      <td>29</td>\n",
       "      <td>4601</td>\n",
       "      <td>36029004601</td>\n",
       "      <td>46.01</td>\n",
       "      <td>Census Tract</td>\n",
       "      <td>G5020</td>\n",
       "      <td>S</td>\n",
       "      <td>818,023</td>\n",
       "      <td>0</td>\n",
       "      <td>42.955492</td>\n",
       "      <td>-78.828757</td>\n",
       "      <td>MULTIPOLYGON (((-78.83835 42.95689, -78.83832 ...</td>\n",
       "      <td>44</td>\n",
       "    </tr>\n",
       "  </tbody>\n",
       "</table>\n",
       "<p>91 rows × 14 columns</p>\n",
       "</div>"
      ],
      "text/plain": [
       "    STATEFP20  COUNTYFP20  TRACTCE20      GEOID20  NAME20    NAMELSAD20  \\\n",
       "0          36          29       4003  36029004003   40.03  Census Tract   \n",
       "1          36          29        900  36029000900    9.00  Census Tract   \n",
       "2          36          29       3501  36029003501   35.01  Census Tract   \n",
       "3          36          29       5500  36029005500   55.00  Census Tract   \n",
       "4          36          29       4901  36029004901   49.01  Census Tract   \n",
       "..        ...         ...        ...          ...     ...           ...   \n",
       "86         36          29       5700  36029005700   57.00  Census Tract   \n",
       "87         36          29       5900  36029005900   59.00  Census Tract   \n",
       "88         36          29       6601  36029006601   66.01  Census Tract   \n",
       "89         36          29       2900  36029002900   29.00  Census Tract   \n",
       "90         36          29       4601  36029004601   46.01  Census Tract   \n",
       "\n",
       "   MTFCC20 FUNCSTAT20    ALAND20 AWATER20  INTPTLAT20  INTPTLON20  \\\n",
       "0    G5020          S    890,101        0   42.935423  -78.833882   \n",
       "1    G5020          S    549,188        0   42.853907  -78.816522   \n",
       "2    G5020          S    680,915        0   42.908822  -78.829490   \n",
       "3    G5020          S  1,559,835        0   42.938881  -78.888941   \n",
       "4    G5020          S    258,659        0   42.945770  -78.860123   \n",
       "..     ...        ...        ...      ...         ...         ...   \n",
       "86   G5020          S    956,845        0   42.949723  -78.899251   \n",
       "87   G5020          S  1,217,883  297,447   42.937314  -78.903121   \n",
       "88   G5020          S    392,015        0   42.913465  -78.882280   \n",
       "89   G5020          S    777,409        0   42.906627  -78.819865   \n",
       "90   G5020          S    818,023        0   42.955492  -78.828757   \n",
       "\n",
       "                                             geometry  OBJECTID  \n",
       "0   MULTIPOLYGON (((-78.83927 42.93134, -78.83926 ...        37  \n",
       "1   MULTIPOLYGON (((-78.82362 42.85632, -78.82353 ...         7  \n",
       "2   MULTIPOLYGON (((-78.83584 42.90379, -78.83584 ...        30  \n",
       "3   MULTIPOLYGON (((-78.89882 42.93641, -78.89846 ...        56  \n",
       "4   MULTIPOLYGON (((-78.86815 42.94463, -78.86798 ...        48  \n",
       "..                                                ...       ...  \n",
       "86  MULTIPOLYGON (((-78.90760 42.94566, -78.90716 ...        58  \n",
       "87  MULTIPOLYGON (((-78.91401 42.94249, -78.90919 ...        61  \n",
       "88  MULTIPOLYGON (((-78.88817 42.91497, -78.88739 ...        66  \n",
       "89  MULTIPOLYGON (((-78.82894 42.90656, -78.82830 ...        24  \n",
       "90  MULTIPOLYGON (((-78.83835 42.95689, -78.83832 ...        44  \n",
       "\n",
       "[91 rows x 14 columns]"
      ]
     },
     "execution_count": 18,
     "metadata": {},
     "output_type": "execute_result"
    }
   ],
   "source": [
    "gdf.set_crs(4326, inplace=True)"
   ]
  },
  {
   "cell_type": "code",
   "execution_count": 19,
   "id": "33993e8e-a94c-422e-ab37-37a89437ba68",
   "metadata": {},
   "outputs": [
    {
     "data": {
      "text/plain": [
       "<Geographic 2D CRS: EPSG:4326>\n",
       "Name: WGS 84\n",
       "Axis Info [ellipsoidal]:\n",
       "- Lat[north]: Geodetic latitude (degree)\n",
       "- Lon[east]: Geodetic longitude (degree)\n",
       "Area of Use:\n",
       "- name: World.\n",
       "- bounds: (-180.0, -90.0, 180.0, 90.0)\n",
       "Datum: World Geodetic System 1984 ensemble\n",
       "- Ellipsoid: WGS 84\n",
       "- Prime Meridian: Greenwich"
      ]
     },
     "execution_count": 19,
     "metadata": {},
     "output_type": "execute_result"
    }
   ],
   "source": [
    "gdf.crs"
   ]
  },
  {
   "cell_type": "code",
   "execution_count": null,
   "id": "2495a3b2-5ff2-40d7-81c2-b57993cf9de0",
   "metadata": {},
   "outputs": [],
   "source": []
  }
 ],
 "metadata": {
  "kernelspec": {
   "display_name": "Python 3 (ipykernel)",
   "language": "python",
   "name": "python3"
  },
  "language_info": {
   "codemirror_mode": {
    "name": "ipython",
    "version": 3
   },
   "file_extension": ".py",
   "mimetype": "text/x-python",
   "name": "python",
   "nbconvert_exporter": "python",
   "pygments_lexer": "ipython3",
   "version": "3.11.4"
  }
 },
 "nbformat": 4,
 "nbformat_minor": 5
}
